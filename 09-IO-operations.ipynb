{
 "cells": [
  {
   "cell_type": "markdown",
   "metadata": {},
   "source": [
    "As a general rule, the majority of data, be it in a finance context or any other application area, is stored on hard disk drives (HDDs) or some other form of permanent storage device, like solid state disks (SSDs) or hybrid disk drives. Storage capacities have been steadily increasing over the years, while costs per storage unit (e.g., per megabyte) have been steadily falling."
   ]
  },
  {
   "cell_type": "markdown",
   "metadata": {},
   "source": [
    "At the same time, stored data volumes have been increasing at a much faster pace than the typical random access memory (RAM) available even in the largest machines. This makes it necessary not only to store data to disk for permanent storage, but also to compensate for lack of sufficient RAM by swapping data from RAM to disk and back."
   ]
  },
  {
   "cell_type": "markdown",
   "metadata": {},
   "source": [
    "Input/output (I/O) operations are therefore important tasks when it comes to finance applications and data-intensive applications in general. Often they represent the bottleneck for performance-critical computations, since I/O operations cannot typically shuffle data fast enough to the RAM1 and from the RAM to the disk. In a sense, CPUs are often \"starving\" due to slow I/O operations."
   ]
  },
  {
   "cell_type": "markdown",
   "metadata": {},
   "source": [
    "Although the majority of today's financial and corporate analytics efforts are confronted with big data (e.g., of petascale size), single analytics tasks generally use data subsets that fall in the \"mid\" data category. A study by Microsoft\n",
    "Research concludes:\n",
    "\n",
    "> Our measurements as well as other recent work shows that the majority of real-world analytic jobs process less than 100 GB of input, but popular infrastructures such as Hadoop/MapReduce were originally designed for petascale processing.\n",
    ">\n",
    "> Appuswamy et al. (2013)"
   ]
  },
  {
   "cell_type": "markdown",
   "metadata": {},
   "source": [
    "In terms of frequency, single financial analytics tasks generally process data of not more than a couple of gigabytes (GB) in size — and this is a sweet spot for Python and the libraries of its scientific stack, such as `NumPy`, `pandas`, and `PyTables`. Data sets of such a size can also be analyzed in-memory, leading to generally high speeds with today's CPUs and GPUs. However, the data has to be read into RAM and the results have to be written to disk, meanwhile ensuring that today's performance requirements are met."
   ]
  },
  {
   "cell_type": "markdown",
   "metadata": {},
   "source": [
    "This chapter addresses the following topics:\n",
    "\n",
    "- \"Basic I/O with Python\"\n",
    "- \"I/O with pandas\"\n",
    "- \"I/O with PyTables\"\n",
    "- \"I/O with TsTables\""
   ]
  },
  {
   "cell_type": "markdown",
   "metadata": {},
   "source": [
    "# Basic I/O with Python"
   ]
  },
  {
   "cell_type": "markdown",
   "metadata": {},
   "source": [
    "Python itself comes with a multitude of I/O capabilities, some optimized for performance, others more for flexibility. In general, however, they are easily used in interactive as well as in production settings."
   ]
  },
  {
   "cell_type": "markdown",
   "metadata": {},
   "source": [
    "## Writing Objects to Disk"
   ]
  },
  {
   "cell_type": "markdown",
   "metadata": {},
   "source": [
    "For later use, for documentation, or for sharing with others, one might want to store Python objects on disk. One option is to use the `pickle` module. This module can serialize the majority of Python objects. *Serialization* refers to the conversion of an object (hierarchy) to a byte stream; *deserialization* is the opposite operation."
   ]
  },
  {
   "cell_type": "markdown",
   "metadata": {},
   "source": [
    "As usual, some imports and customizations with regard to plotting first:"
   ]
  },
  {
   "cell_type": "code",
   "execution_count": 1,
   "metadata": {
    "ExecuteTime": {
     "end_time": "2020-03-04T23:17:14.059537Z",
     "start_time": "2020-03-04T23:17:13.784230Z"
    }
   },
   "outputs": [],
   "source": [
    "from pylab import plt, mpl\n",
    "plt.style.use('seaborn')\n",
    "mpl.rcParams['font.family'] = 'serif'\n",
    "%matplotlib inline"
   ]
  },
  {
   "cell_type": "markdown",
   "metadata": {},
   "source": [
    "The example that follows works with (pseudo-)random data, this time stored in a list object:"
   ]
  },
  {
   "cell_type": "code",
   "execution_count": 2,
   "metadata": {
    "ExecuteTime": {
     "end_time": "2020-03-04T23:17:16.821934Z",
     "start_time": "2020-03-04T23:17:16.818951Z"
    }
   },
   "outputs": [],
   "source": [
    "import pickle    # Imports the pickle module from the standard library.\n",
    "import numpy as np\n",
    "from random import gauss    # Import gauss to generate normally distributed random numbers."
   ]
  },
  {
   "cell_type": "code",
   "execution_count": 3,
   "metadata": {
    "ExecuteTime": {
     "end_time": "2020-03-04T07:27:11.453218Z",
     "start_time": "2020-03-04T07:27:10.549931Z"
    }
   },
   "outputs": [],
   "source": [
    "a = [gauss(1.5, 2) for i in range(1000000)]    # Creates a larger list object with random numbers."
   ]
  },
  {
   "cell_type": "code",
   "execution_count": 3,
   "metadata": {
    "ExecuteTime": {
     "end_time": "2020-03-04T23:17:19.367688Z",
     "start_time": "2020-03-04T23:17:19.365042Z"
    }
   },
   "outputs": [],
   "source": [
    "path = 'data/'    # Specifies the path where to store the data files."
   ]
  },
  {
   "cell_type": "code",
   "execution_count": 5,
   "metadata": {
    "ExecuteTime": {
     "end_time": "2020-03-04T07:27:11.463797Z",
     "start_time": "2020-03-04T07:27:11.460459Z"
    }
   },
   "outputs": [],
   "source": [
    "pkl_file = open(path + 'data.pkl', 'wb')    # Opens a file for writing in binary mode ( wb )."
   ]
  },
  {
   "cell_type": "markdown",
   "metadata": {},
   "source": [
    "The two major functions to serialize and deserialize Python objects are `pickle.dump()`, for writing objects, and `pickle.load()`, for loading them into memory:"
   ]
  },
  {
   "cell_type": "code",
   "execution_count": 6,
   "metadata": {
    "ExecuteTime": {
     "end_time": "2020-03-04T07:27:11.539351Z",
     "start_time": "2020-03-04T07:27:11.465649Z"
    }
   },
   "outputs": [
    {
     "name": "stdout",
     "output_type": "stream",
     "text": [
      "CPU times: user 12.9 ms, sys: 8.13 ms, total: 21 ms\n",
      "Wall time: 20.4 ms\n"
     ]
    }
   ],
   "source": [
    "%time pickle.dump(a, pkl_file)    # Serializes the object a and saves it to the file."
   ]
  },
  {
   "cell_type": "code",
   "execution_count": 7,
   "metadata": {
    "ExecuteTime": {
     "end_time": "2020-03-04T07:27:11.544076Z",
     "start_time": "2020-03-04T07:27:11.541075Z"
    }
   },
   "outputs": [],
   "source": [
    "pkl_file.close()    # Closes the file."
   ]
  },
  {
   "cell_type": "code",
   "execution_count": 8,
   "metadata": {
    "ExecuteTime": {
     "end_time": "2020-03-04T07:27:11.671957Z",
     "start_time": "2020-03-04T07:27:11.547435Z"
    }
   },
   "outputs": [
    {
     "name": "stdout",
     "output_type": "stream",
     "text": [
      "-rw-r--r-- 1 jay 9002006 3月   4 17:55 data/data.pkl\r\n"
     ]
    }
   ],
   "source": [
    "ll $path*    # Shows the file on disk and its size (Mac/Linux)."
   ]
  },
  {
   "cell_type": "code",
   "execution_count": 9,
   "metadata": {
    "ExecuteTime": {
     "end_time": "2020-03-04T07:27:11.681129Z",
     "start_time": "2020-03-04T07:27:11.676134Z"
    }
   },
   "outputs": [],
   "source": [
    "pkl_file = open(path + 'data.pkl', 'rb')    # Opens the file for reading in binary mode ( rb )."
   ]
  },
  {
   "cell_type": "code",
   "execution_count": 10,
   "metadata": {
    "ExecuteTime": {
     "end_time": "2020-03-04T07:27:11.772341Z",
     "start_time": "2020-03-04T07:27:11.684170Z"
    }
   },
   "outputs": [
    {
     "name": "stdout",
     "output_type": "stream",
     "text": [
      "CPU times: user 16.6 ms, sys: 12 ms, total: 28.6 ms\n",
      "Wall time: 28.4 ms\n"
     ]
    }
   ],
   "source": [
    "%time b = pickle.load(pkl_file)    # Reads the object from disk and deserializes it."
   ]
  },
  {
   "cell_type": "code",
   "execution_count": 11,
   "metadata": {
    "ExecuteTime": {
     "end_time": "2020-03-04T07:27:11.828456Z",
     "start_time": "2020-03-04T07:27:11.774580Z"
    }
   },
   "outputs": [
    {
     "data": {
      "text/plain": [
       "[5.458155277768831, 2.1886102392341784, 3.7763880857650896]"
      ]
     },
     "execution_count": 11,
     "metadata": {},
     "output_type": "execute_result"
    }
   ],
   "source": [
    "a[:3]"
   ]
  },
  {
   "cell_type": "code",
   "execution_count": 12,
   "metadata": {
    "ExecuteTime": {
     "end_time": "2020-03-04T07:27:11.834192Z",
     "start_time": "2020-03-04T07:27:11.830092Z"
    }
   },
   "outputs": [
    {
     "data": {
      "text/plain": [
       "[5.458155277768831, 2.1886102392341784, 3.7763880857650896]"
      ]
     },
     "execution_count": 12,
     "metadata": {},
     "output_type": "execute_result"
    }
   ],
   "source": [
    "b[:3]"
   ]
  },
  {
   "cell_type": "code",
   "execution_count": 13,
   "metadata": {
    "ExecuteTime": {
     "end_time": "2020-03-04T07:27:12.087519Z",
     "start_time": "2020-03-04T07:27:11.836300Z"
    }
   },
   "outputs": [
    {
     "data": {
      "text/plain": [
       "True"
      ]
     },
     "execution_count": 13,
     "metadata": {},
     "output_type": "execute_result"
    }
   ],
   "source": [
    "# Converting a and b to ndarrary objects, np.allclose() verifies that both\n",
    "# contain the same data (numbers).\n",
    "np.allclose(np.array(a), np.array(b))"
   ]
  },
  {
   "cell_type": "markdown",
   "metadata": {},
   "source": [
    "Storing and retrieving a single object with pickle obviously is quite simple. What about two objects?"
   ]
  },
  {
   "cell_type": "code",
   "execution_count": 14,
   "metadata": {
    "ExecuteTime": {
     "end_time": "2020-03-04T07:27:12.093846Z",
     "start_time": "2020-03-04T07:27:12.089186Z"
    }
   },
   "outputs": [],
   "source": [
    "pkl_file = open(path + 'data.pkl', 'wb')"
   ]
  },
  {
   "cell_type": "code",
   "execution_count": 15,
   "metadata": {
    "ExecuteTime": {
     "end_time": "2020-03-04T07:27:12.209373Z",
     "start_time": "2020-03-04T07:27:12.095747Z"
    }
   },
   "outputs": [
    {
     "name": "stdout",
     "output_type": "stream",
     "text": [
      "CPU times: user 25 ms, sys: 3.86 ms, total: 28.9 ms\n",
      "Wall time: 28.2 ms\n"
     ]
    }
   ],
   "source": [
    "%time pickle.dump(np.array(a), pkl_file)    # Serializes the ndarray version of a and saves it."
   ]
  },
  {
   "cell_type": "code",
   "execution_count": 16,
   "metadata": {
    "ExecuteTime": {
     "end_time": "2020-03-04T07:27:12.326443Z",
     "start_time": "2020-03-04T07:27:12.211257Z"
    }
   },
   "outputs": [
    {
     "name": "stdout",
     "output_type": "stream",
     "text": [
      "CPU times: user 26.5 ms, sys: 3.85 ms, total: 30.4 ms\n",
      "Wall time: 29.6 ms\n"
     ]
    }
   ],
   "source": [
    "%time pickle.dump(np.array(a) ** 2, pkl_file)    # Serializes the squared ndarray version of a and saves it."
   ]
  },
  {
   "cell_type": "code",
   "execution_count": 17,
   "metadata": {
    "ExecuteTime": {
     "end_time": "2020-03-04T07:27:12.331402Z",
     "start_time": "2020-03-04T07:27:12.328405Z"
    }
   },
   "outputs": [],
   "source": [
    "pkl_file.close()"
   ]
  },
  {
   "cell_type": "code",
   "execution_count": 18,
   "metadata": {
    "ExecuteTime": {
     "end_time": "2020-03-04T07:27:12.452072Z",
     "start_time": "2020-03-04T07:27:12.333573Z"
    }
   },
   "outputs": [
    {
     "name": "stdout",
     "output_type": "stream",
     "text": [
      "-rw-r--r-- 1 jay 16000322 3月   4 17:55 data/data.pkl\r\n"
     ]
    }
   ],
   "source": [
    "ll $path*    # The file now has roughly double the size from before."
   ]
  },
  {
   "cell_type": "markdown",
   "metadata": {},
   "source": [
    "What about reading the two `ndarray` objects back into memory?"
   ]
  },
  {
   "cell_type": "code",
   "execution_count": 19,
   "metadata": {
    "ExecuteTime": {
     "end_time": "2020-03-04T07:27:12.460745Z",
     "start_time": "2020-03-04T07:27:12.455715Z"
    }
   },
   "outputs": [],
   "source": [
    "pkl_file = open(path + 'data.pkl', 'rb')"
   ]
  },
  {
   "cell_type": "code",
   "execution_count": 20,
   "metadata": {
    "ExecuteTime": {
     "end_time": "2020-03-04T07:27:12.472136Z",
     "start_time": "2020-03-04T07:27:12.462428Z"
    }
   },
   "outputs": [
    {
     "data": {
      "text/plain": [
       "array([5.45815528, 2.18861024, 3.77638809, 4.68802004])"
      ]
     },
     "execution_count": 20,
     "metadata": {},
     "output_type": "execute_result"
    }
   ],
   "source": [
    "x = pickle.load(pkl_file)    # This retrieves the object that was stored first.\n",
    "x[:4]"
   ]
  },
  {
   "cell_type": "code",
   "execution_count": 21,
   "metadata": {
    "ExecuteTime": {
     "end_time": "2020-03-04T07:27:12.484614Z",
     "start_time": "2020-03-04T07:27:12.473769Z"
    }
   },
   "outputs": [
    {
     "data": {
      "text/plain": [
       "array([29.79145904,  4.79001478, 14.26110697, 21.97753193])"
      ]
     },
     "execution_count": 21,
     "metadata": {},
     "output_type": "execute_result"
    }
   ],
   "source": [
    "y = pickle.load(pkl_file)    # This retrieves the object that was stored second.\n",
    "y[:4]"
   ]
  },
  {
   "cell_type": "code",
   "execution_count": 22,
   "metadata": {
    "ExecuteTime": {
     "end_time": "2020-03-04T07:27:12.489409Z",
     "start_time": "2020-03-04T07:27:12.486408Z"
    }
   },
   "outputs": [],
   "source": [
    "pkl_file.close()"
   ]
  },
  {
   "cell_type": "markdown",
   "metadata": {},
   "source": [
    "Obviously, `pickle` stores objects according to the *first in, first out* (FIFO) principle. There is one major problem with this: there is no metainformation available to the user to know beforehand what is stored in a `pickle` file."
   ]
  },
  {
   "cell_type": "markdown",
   "metadata": {},
   "source": [
    "A sometimes helpful workaround is to not store single objects, but a `dict` object containing all the other objects:"
   ]
  },
  {
   "cell_type": "code",
   "execution_count": 23,
   "metadata": {
    "ExecuteTime": {
     "end_time": "2020-03-04T07:27:12.554002Z",
     "start_time": "2020-03-04T07:27:12.494373Z"
    }
   },
   "outputs": [],
   "source": [
    "pkl_file = open(path + 'data.pkl', 'wb')\n",
    "pickle.dump({'x': x, 'y': y}, pkl_file)    # Stores a dict object containing the two ndarray objects.\n",
    "pkl_file.close()"
   ]
  },
  {
   "cell_type": "code",
   "execution_count": 24,
   "metadata": {
    "ExecuteTime": {
     "end_time": "2020-03-04T07:27:12.571639Z",
     "start_time": "2020-03-04T07:27:12.556945Z"
    }
   },
   "outputs": [
    {
     "name": "stdout",
     "output_type": "stream",
     "text": [
      "x [5.45815528 2.18861024 3.77638809 4.68802004]\n",
      "y [29.79145904  4.79001478 14.26110697 21.97753193]\n"
     ]
    }
   ],
   "source": [
    "pkl_file = open(path + 'data.pkl', 'rb')\n",
    "data = pickle.load(pkl_file)    # Retrieves the dict object.\n",
    "pkl_file.close()\n",
    "for key in data.keys():\n",
    "    print(key, data[key][:4])"
   ]
  },
  {
   "cell_type": "code",
   "execution_count": 25,
   "metadata": {
    "ExecuteTime": {
     "end_time": "2020-03-04T07:27:12.717845Z",
     "start_time": "2020-03-04T07:27:12.573417Z"
    }
   },
   "outputs": [],
   "source": [
    "!rm -f $path*"
   ]
  },
  {
   "cell_type": "markdown",
   "metadata": {},
   "source": [
    "This approach requires writing and reading all the objects at once, but this is a compromise one can probably live with in many circumstances given the higher convenience it brings along."
   ]
  },
  {
   "cell_type": "markdown",
   "metadata": {},
   "source": [
    "## Reading and Writing Text Files"
   ]
  },
  {
   "cell_type": "markdown",
   "metadata": {},
   "source": [
    "Text processing can be considered a strength of Python. In fact, many corporate and scientific users use Python for exactly this task. With Python one has multiple options to work with `str` objects, as well as with text files in general."
   ]
  },
  {
   "cell_type": "markdown",
   "metadata": {},
   "source": [
    "Assume the case of quite a large set of data that shall be shared as a CSV file. Although such files have a special internal structure, they are basically plain text files. The following code creates a dummy data set as an `ndarray` object, creates a `DatetimeIndex` object, combines the two, and stores the data as a CSV text\n",
    "file:"
   ]
  },
  {
   "cell_type": "code",
   "execution_count": 4,
   "metadata": {
    "ExecuteTime": {
     "end_time": "2020-03-04T23:17:31.397894Z",
     "start_time": "2020-03-04T23:17:31.135040Z"
    }
   },
   "outputs": [],
   "source": [
    "import pandas as pd"
   ]
  },
  {
   "cell_type": "code",
   "execution_count": 27,
   "metadata": {
    "ExecuteTime": {
     "end_time": "2020-03-04T07:27:13.134188Z",
     "start_time": "2020-03-04T07:27:13.105769Z"
    }
   },
   "outputs": [],
   "source": [
    "rows = 5000    # Defines the number of rows for the data set.\n",
    "a = np.random.standard_normal((rows, 5)).round(4)    # Creates the ndarray object with the random numbers."
   ]
  },
  {
   "cell_type": "code",
   "execution_count": 28,
   "metadata": {
    "ExecuteTime": {
     "end_time": "2020-03-04T07:27:13.146076Z",
     "start_time": "2020-03-04T07:27:13.137961Z"
    }
   },
   "outputs": [
    {
     "data": {
      "text/plain": [
       "array([[-0.1727, -0.5909, -1.2599, -1.3193,  0.5751],\n",
       "       [ 0.8734,  0.77  , -1.6028, -0.8426, -1.3082],\n",
       "       [ 0.753 , -0.6301, -0.3628,  1.2292,  0.5841],\n",
       "       ...,\n",
       "       [ 1.007 ,  0.1174, -0.6352,  0.7424,  0.4923],\n",
       "       [-1.1124,  0.9849,  0.1769, -1.4268, -1.2996],\n",
       "       [-1.8144,  0.9849, -2.4821, -0.15  ,  0.0511]])"
      ]
     },
     "execution_count": 28,
     "metadata": {},
     "output_type": "execute_result"
    }
   ],
   "source": [
    "a"
   ]
  },
  {
   "cell_type": "code",
   "execution_count": 29,
   "metadata": {
    "ExecuteTime": {
     "end_time": "2020-03-04T07:27:13.154809Z",
     "start_time": "2020-03-04T07:27:13.148095Z"
    }
   },
   "outputs": [],
   "source": [
    "t = pd.date_range(start='2019/1/1', periods=rows, freq='H')"
   ]
  },
  {
   "cell_type": "code",
   "execution_count": 30,
   "metadata": {
    "ExecuteTime": {
     "end_time": "2020-03-04T07:27:13.168899Z",
     "start_time": "2020-03-04T07:27:13.158056Z"
    }
   },
   "outputs": [
    {
     "data": {
      "text/plain": [
       "DatetimeIndex(['2019-01-01 00:00:00', '2019-01-01 01:00:00',\n",
       "               '2019-01-01 02:00:00', '2019-01-01 03:00:00',\n",
       "               '2019-01-01 04:00:00', '2019-01-01 05:00:00',\n",
       "               '2019-01-01 06:00:00', '2019-01-01 07:00:00',\n",
       "               '2019-01-01 08:00:00', '2019-01-01 09:00:00',\n",
       "               ...\n",
       "               '2019-07-27 22:00:00', '2019-07-27 23:00:00',\n",
       "               '2019-07-28 00:00:00', '2019-07-28 01:00:00',\n",
       "               '2019-07-28 02:00:00', '2019-07-28 03:00:00',\n",
       "               '2019-07-28 04:00:00', '2019-07-28 05:00:00',\n",
       "               '2019-07-28 06:00:00', '2019-07-28 07:00:00'],\n",
       "              dtype='datetime64[ns]', length=5000, freq='H')"
      ]
     },
     "execution_count": 30,
     "metadata": {},
     "output_type": "execute_result"
    }
   ],
   "source": [
    "t    # Creates a DatetimeIndex object of appropriate length (hourly intervals)."
   ]
  },
  {
   "cell_type": "code",
   "execution_count": 31,
   "metadata": {
    "ExecuteTime": {
     "end_time": "2020-03-04T07:27:13.173655Z",
     "start_time": "2020-03-04T07:27:13.171267Z"
    }
   },
   "outputs": [],
   "source": [
    "csv_file = open(path + 'data.csv', 'w')    # Opens a file for writing ( w )."
   ]
  },
  {
   "cell_type": "code",
   "execution_count": 32,
   "metadata": {
    "ExecuteTime": {
     "end_time": "2020-03-04T07:27:13.179387Z",
     "start_time": "2020-03-04T07:27:13.175075Z"
    }
   },
   "outputs": [],
   "source": [
    "header = 'date,no1,no2,no3,no4,no5\\n'"
   ]
  },
  {
   "cell_type": "code",
   "execution_count": 33,
   "metadata": {
    "ExecuteTime": {
     "end_time": "2020-03-04T07:27:13.185374Z",
     "start_time": "2020-03-04T07:27:13.181224Z"
    }
   },
   "outputs": [
    {
     "data": {
      "text/plain": [
       "25"
      ]
     },
     "execution_count": 33,
     "metadata": {},
     "output_type": "execute_result"
    }
   ],
   "source": [
    "csv_file.write(header)    # Defines the header row (column labels) and writes it as the first line."
   ]
  },
  {
   "cell_type": "code",
   "execution_count": 34,
   "metadata": {
    "ExecuteTime": {
     "end_time": "2020-03-04T07:27:13.242688Z",
     "start_time": "2020-03-04T07:27:13.187242Z"
    }
   },
   "outputs": [],
   "source": [
    "for t_, (no1, no2, no3, no4, no5) in zip(t, a):    # Combines the data row-wise ...\n",
    "    # ... into str objects ...\n",
    "    s = '{},{},{},{},{},{}\\n'.format(t_, no1, no2, no3, no4, no5)\n",
    "    # ... and writes it line-by-line (appending to the CSV text file).\n",
    "    csv_file.write(s)"
   ]
  },
  {
   "cell_type": "code",
   "execution_count": 35,
   "metadata": {
    "ExecuteTime": {
     "end_time": "2020-03-04T07:27:13.250650Z",
     "start_time": "2020-03-04T07:27:13.246093Z"
    }
   },
   "outputs": [],
   "source": [
    "csv_file.close()"
   ]
  },
  {
   "cell_type": "code",
   "execution_count": 36,
   "metadata": {
    "ExecuteTime": {
     "end_time": "2020-03-04T07:27:13.373795Z",
     "start_time": "2020-03-04T07:27:13.253726Z"
    }
   },
   "outputs": [
    {
     "name": "stdout",
     "output_type": "stream",
     "text": [
      "-rw-r--r-- 1 jay 284805 3月   4 17:55 data/data.csv\r\n"
     ]
    }
   ],
   "source": [
    "ll $path*"
   ]
  },
  {
   "cell_type": "markdown",
   "metadata": {},
   "source": [
    "The other way around works quite similarly. First, open the now-existing CSV file. Second, read its content line-by-line using the `.readline()` or `.readlines()` methods of the file object:"
   ]
  },
  {
   "cell_type": "code",
   "execution_count": 37,
   "metadata": {
    "ExecuteTime": {
     "end_time": "2020-03-04T07:27:13.380895Z",
     "start_time": "2020-03-04T07:27:13.375779Z"
    }
   },
   "outputs": [],
   "source": [
    "csv_file = open(path + 'data.csv', 'r')    # Opens the file for reading ( r )."
   ]
  },
  {
   "cell_type": "code",
   "execution_count": 38,
   "metadata": {
    "ExecuteTime": {
     "end_time": "2020-03-04T07:27:13.386712Z",
     "start_time": "2020-03-04T07:27:13.382758Z"
    }
   },
   "outputs": [
    {
     "name": "stdout",
     "output_type": "stream",
     "text": [
      "date,no1,no2,no3,no4,no5\n",
      "2019-01-01 00:00:00,-0.1727,-0.5909,-1.2599,-1.3193,0.5751\n",
      "2019-01-01 01:00:00,0.8734,0.77,-1.6028,-0.8426,-1.3082\n",
      "2019-01-01 02:00:00,0.753,-0.6301,-0.3628,1.2292,0.5841\n",
      "2019-01-01 03:00:00,-0.0699,0.9571,0.0982,-0.1901,-0.5748\n"
     ]
    }
   ],
   "source": [
    "for i in range(5):\n",
    "    print(csv_file.readline(), end='')    # Reads the file contents line-by-line and prints them."
   ]
  },
  {
   "cell_type": "code",
   "execution_count": 39,
   "metadata": {
    "ExecuteTime": {
     "end_time": "2020-03-04T07:27:13.391446Z",
     "start_time": "2020-03-04T07:27:13.388690Z"
    }
   },
   "outputs": [],
   "source": [
    "csv_file.close()"
   ]
  },
  {
   "cell_type": "code",
   "execution_count": 40,
   "metadata": {
    "ExecuteTime": {
     "end_time": "2020-03-04T07:27:13.396494Z",
     "start_time": "2020-03-04T07:27:13.393199Z"
    }
   },
   "outputs": [],
   "source": [
    "csv_file = open(path + 'data.csv', 'r')"
   ]
  },
  {
   "cell_type": "code",
   "execution_count": 41,
   "metadata": {
    "ExecuteTime": {
     "end_time": "2020-03-04T07:27:13.402359Z",
     "start_time": "2020-03-04T07:27:13.398316Z"
    }
   },
   "outputs": [],
   "source": [
    "content = csv_file.readlines()    # Reads the file contents in a single step ..."
   ]
  },
  {
   "cell_type": "code",
   "execution_count": 42,
   "metadata": {
    "ExecuteTime": {
     "end_time": "2020-03-04T07:27:13.408604Z",
     "start_time": "2020-03-04T07:27:13.404229Z"
    }
   },
   "outputs": [
    {
     "data": {
      "text/plain": [
       "['date,no1,no2,no3,no4,no5\\n',\n",
       " '2019-01-01 00:00:00,-0.1727,-0.5909,-1.2599,-1.3193,0.5751\\n',\n",
       " '2019-01-01 01:00:00,0.8734,0.77,-1.6028,-0.8426,-1.3082\\n',\n",
       " '2019-01-01 02:00:00,0.753,-0.6301,-0.3628,1.2292,0.5841\\n',\n",
       " '2019-01-01 03:00:00,-0.0699,0.9571,0.0982,-0.1901,-0.5748\\n']"
      ]
     },
     "execution_count": 42,
     "metadata": {},
     "output_type": "execute_result"
    }
   ],
   "source": [
    "content[:5]    # ... the result of which is a list object with all lines as separate str objects."
   ]
  },
  {
   "cell_type": "code",
   "execution_count": 43,
   "metadata": {
    "ExecuteTime": {
     "end_time": "2020-03-04T07:27:13.413293Z",
     "start_time": "2020-03-04T07:27:13.410391Z"
    }
   },
   "outputs": [],
   "source": [
    "csv_file.close()"
   ]
  },
  {
   "cell_type": "markdown",
   "metadata": {},
   "source": [
    "CSV files are so important and commonplace that there is a `csv` module in the Python standard library that simplifies the processing of these files. Two helpful reader (iterator) objects of the `csv` module return either a `list` of `list` objects or a `list` of `dict` objects:"
   ]
  },
  {
   "cell_type": "code",
   "execution_count": 44,
   "metadata": {
    "ExecuteTime": {
     "end_time": "2020-03-04T07:27:13.418035Z",
     "start_time": "2020-03-04T07:27:13.415138Z"
    }
   },
   "outputs": [],
   "source": [
    "import csv"
   ]
  },
  {
   "cell_type": "code",
   "execution_count": 45,
   "metadata": {
    "ExecuteTime": {
     "end_time": "2020-03-04T07:27:13.433714Z",
     "start_time": "2020-03-04T07:27:13.419909Z"
    }
   },
   "outputs": [],
   "source": [
    "with open(path + 'data.csv', 'r') as f:\n",
    "    csv_reader = csv.reader(f)\n",
    "    lines = [line for line in csv_reader]"
   ]
  },
  {
   "cell_type": "code",
   "execution_count": 46,
   "metadata": {
    "ExecuteTime": {
     "end_time": "2020-03-04T07:27:13.440104Z",
     "start_time": "2020-03-04T07:27:13.435317Z"
    }
   },
   "outputs": [
    {
     "data": {
      "text/plain": [
       "[['date', 'no1', 'no2', 'no3', 'no4', 'no5'],\n",
       " ['2019-01-01 00:00:00', '-0.1727', '-0.5909', '-1.2599', '-1.3193', '0.5751'],\n",
       " ['2019-01-01 01:00:00', '0.8734', '0.77', '-1.6028', '-0.8426', '-1.3082'],\n",
       " ['2019-01-01 02:00:00', '0.753', '-0.6301', '-0.3628', '1.2292', '0.5841'],\n",
       " ['2019-01-01 03:00:00', '-0.0699', '0.9571', '0.0982', '-0.1901', '-0.5748']]"
      ]
     },
     "execution_count": 46,
     "metadata": {},
     "output_type": "execute_result"
    }
   ],
   "source": [
    "lines[:5]    # csv.reader() returns every single line as a list object."
   ]
  },
  {
   "cell_type": "code",
   "execution_count": 47,
   "metadata": {
    "ExecuteTime": {
     "end_time": "2020-03-04T07:27:13.476304Z",
     "start_time": "2020-03-04T07:27:13.442091Z"
    }
   },
   "outputs": [],
   "source": [
    "with open(path + 'data.csv', 'r') as f:\n",
    "    csv_reader = csv.DictReader(f)\n",
    "    lines = [line for line in csv_reader]"
   ]
  },
  {
   "cell_type": "code",
   "execution_count": 48,
   "metadata": {
    "ExecuteTime": {
     "end_time": "2020-03-04T07:27:13.482457Z",
     "start_time": "2020-03-04T07:27:13.477809Z"
    },
    "scrolled": true
   },
   "outputs": [
    {
     "data": {
      "text/plain": [
       "[OrderedDict([('date', '2019-01-01 00:00:00'),\n",
       "              ('no1', '-0.1727'),\n",
       "              ('no2', '-0.5909'),\n",
       "              ('no3', '-1.2599'),\n",
       "              ('no4', '-1.3193'),\n",
       "              ('no5', '0.5751')]),\n",
       " OrderedDict([('date', '2019-01-01 01:00:00'),\n",
       "              ('no1', '0.8734'),\n",
       "              ('no2', '0.77'),\n",
       "              ('no3', '-1.6028'),\n",
       "              ('no4', '-0.8426'),\n",
       "              ('no5', '-1.3082')]),\n",
       " OrderedDict([('date', '2019-01-01 02:00:00'),\n",
       "              ('no1', '0.753'),\n",
       "              ('no2', '-0.6301'),\n",
       "              ('no3', '-0.3628'),\n",
       "              ('no4', '1.2292'),\n",
       "              ('no5', '0.5841')])]"
      ]
     },
     "execution_count": 48,
     "metadata": {},
     "output_type": "execute_result"
    }
   ],
   "source": [
    "# rcsv.DictReader(f) eturns every single line as an OrderedDict , which is a special case of a dict object.\n",
    "lines[:3]"
   ]
  },
  {
   "cell_type": "code",
   "execution_count": 49,
   "metadata": {},
   "outputs": [],
   "source": [
    "!rm -f $path*"
   ]
  },
  {
   "cell_type": "markdown",
   "metadata": {},
   "source": [
    "## Working with SQL Databases"
   ]
  },
  {
   "cell_type": "markdown",
   "metadata": {},
   "source": [
    "Python can work with any kind of Structured Query Language (SQL) database, and in general also with any kind of NoSQL database. One SQL or relational database that is delivered with Python by default is SQLite3. With it, the basic Python approach to SQL databases can be easily illustrated:"
   ]
  },
  {
   "cell_type": "code",
   "execution_count": 50,
   "metadata": {
    "ExecuteTime": {
     "end_time": "2020-03-04T07:27:13.487228Z",
     "start_time": "2020-03-04T07:27:13.484595Z"
    }
   },
   "outputs": [],
   "source": [
    "import sqlite3 as sq3"
   ]
  },
  {
   "cell_type": "code",
   "execution_count": 51,
   "metadata": {
    "ExecuteTime": {
     "end_time": "2020-03-04T07:27:13.492536Z",
     "start_time": "2020-03-04T07:27:13.489096Z"
    }
   },
   "outputs": [],
   "source": [
    "con = sq3.connect(path + 'numbs.db')    # Opens a database connection; a file is created if it does not exist."
   ]
  },
  {
   "cell_type": "code",
   "execution_count": 52,
   "metadata": {
    "ExecuteTime": {
     "end_time": "2020-03-04T07:27:13.497028Z",
     "start_time": "2020-03-04T07:27:13.494396Z"
    }
   },
   "outputs": [],
   "source": [
    "# A SQL query that creates a table with three columns.\n",
    "query = 'CREATE TABLE numbs (Date date, No1 real, No2 real)'"
   ]
  },
  {
   "cell_type": "code",
   "execution_count": 53,
   "metadata": {
    "ExecuteTime": {
     "end_time": "2020-03-04T07:27:13.508829Z",
     "start_time": "2020-03-04T07:27:13.498832Z"
    }
   },
   "outputs": [
    {
     "data": {
      "text/plain": [
       "<sqlite3.Cursor at 0x7f1e336433b0>"
      ]
     },
     "execution_count": 53,
     "metadata": {},
     "output_type": "execute_result"
    }
   ],
   "source": [
    "con.execute(query)    # Executes the query ..."
   ]
  },
  {
   "cell_type": "code",
   "execution_count": 54,
   "metadata": {
    "ExecuteTime": {
     "end_time": "2020-03-04T07:27:13.513024Z",
     "start_time": "2020-03-04T07:27:13.510402Z"
    }
   },
   "outputs": [],
   "source": [
    "con.commit()    # ... and commits the changes."
   ]
  },
  {
   "cell_type": "code",
   "execution_count": 55,
   "metadata": {
    "ExecuteTime": {
     "end_time": "2020-03-04T07:27:13.517726Z",
     "start_time": "2020-03-04T07:27:13.514823Z"
    }
   },
   "outputs": [],
   "source": [
    "q = con.execute    # Defines a short alias for the con.execute() method."
   ]
  },
  {
   "cell_type": "code",
   "execution_count": 56,
   "metadata": {
    "ExecuteTime": {
     "end_time": "2020-03-04T07:27:13.523745Z",
     "start_time": "2020-03-04T07:27:13.519413Z"
    }
   },
   "outputs": [
    {
     "data": {
      "text/plain": [
       "[('table',\n",
       "  'numbs',\n",
       "  'numbs',\n",
       "  2,\n",
       "  'CREATE TABLE numbs (Date date, No1 real, No2 real)')]"
      ]
     },
     "execution_count": 56,
     "metadata": {},
     "output_type": "execute_result"
    }
   ],
   "source": [
    "# Fetches metainformation about the database, showing the just-created table\n",
    "# as the single object.\n",
    "q('SELECT * FROM sqlite_master').fetchall()"
   ]
  },
  {
   "cell_type": "markdown",
   "metadata": {},
   "source": [
    "Now that there is a database file with a table, this table can be populated with data. Each row consists of a `datetime` object and two `float` objects:"
   ]
  },
  {
   "cell_type": "code",
   "execution_count": 57,
   "metadata": {
    "ExecuteTime": {
     "end_time": "2020-03-04T07:27:13.528211Z",
     "start_time": "2020-03-04T07:27:13.525711Z"
    }
   },
   "outputs": [],
   "source": [
    "import datetime"
   ]
  },
  {
   "cell_type": "code",
   "execution_count": 58,
   "metadata": {
    "ExecuteTime": {
     "end_time": "2020-03-04T07:27:13.534708Z",
     "start_time": "2020-03-04T07:27:13.530046Z"
    }
   },
   "outputs": [
    {
     "data": {
      "text/plain": [
       "<sqlite3.Cursor at 0x7f1e3363c650>"
      ]
     },
     "execution_count": 58,
     "metadata": {},
     "output_type": "execute_result"
    }
   ],
   "source": [
    "now = datetime.datetime.now()\n",
    "q('INSERT INTO numbs VALUES(?, ?, ?)', (now, 0.12, 7.3))\n",
    "# Writes a single row (or record) to the numbs table."
   ]
  },
  {
   "cell_type": "code",
   "execution_count": 59,
   "metadata": {
    "ExecuteTime": {
     "end_time": "2020-03-04T07:27:13.539302Z",
     "start_time": "2020-03-04T07:27:13.536667Z"
    }
   },
   "outputs": [],
   "source": [
    "np.random.seed(100)"
   ]
  },
  {
   "cell_type": "code",
   "execution_count": 60,
   "metadata": {
    "ExecuteTime": {
     "end_time": "2020-03-04T07:27:13.546032Z",
     "start_time": "2020-03-04T07:27:13.541177Z"
    }
   },
   "outputs": [],
   "source": [
    "data = np.random.standard_normal((10000, 2)).round(4)\n",
    "# Creates a larger dummy data set as an ndarray object."
   ]
  },
  {
   "cell_type": "code",
   "execution_count": 61,
   "metadata": {
    "ExecuteTime": {
     "end_time": "2020-03-04T07:27:13.684063Z",
     "start_time": "2020-03-04T07:27:13.548313Z"
    }
   },
   "outputs": [
    {
     "name": "stdout",
     "output_type": "stream",
     "text": [
      "CPU times: user 52 ms, sys: 0 ns, total: 52 ms\n",
      "Wall time: 53.4 ms\n"
     ]
    }
   ],
   "source": [
    "%%time\n",
    "for row in data:    # Iterates over the rows of the ndarray object.\n",
    "    now = datetime.datetime.now()\n",
    "    q('INSERT INTO numbs VALUES(?, ?, ?)', (now, row[0], row[1]))\n",
    "con.commit()"
   ]
  },
  {
   "cell_type": "code",
   "execution_count": 62,
   "metadata": {
    "ExecuteTime": {
     "end_time": "2020-03-04T07:27:13.690331Z",
     "start_time": "2020-03-04T07:27:13.685965Z"
    },
    "scrolled": false
   },
   "outputs": [
    {
     "data": {
      "text/plain": [
       "[('2020-03-04 17:55:12.323464', 0.12, 7.3),\n",
       " ('2020-03-04 17:55:12.332335', -1.7498, 0.3427),\n",
       " ('2020-03-04 17:55:12.332396', 1.153, -0.2524),\n",
       " ('2020-03-04 17:55:12.332521', 0.9813, 0.5142)]"
      ]
     },
     "execution_count": 62,
     "metadata": {},
     "output_type": "execute_result"
    }
   ],
   "source": [
    "# Retrieves a number of rows from the table.\n",
    "q('SELECT * FROM numbs').fetchmany(4)"
   ]
  },
  {
   "cell_type": "code",
   "execution_count": 63,
   "metadata": {},
   "outputs": [
    {
     "data": {
      "text/plain": [
       "[('2020-03-04 17:55:12.332396', 1.153, -0.2524),\n",
       " ('2020-03-04 17:55:12.332521', 0.9813, 0.5142),\n",
       " ('2020-03-04 17:55:12.332699', 0.6727, -0.1044),\n",
       " ('2020-03-04 17:55:12.332722', 1.619, 1.5416)]"
      ]
     },
     "execution_count": 63,
     "metadata": {},
     "output_type": "execute_result"
    }
   ],
   "source": [
    "# The same, but with a condition on the values in the No1 column.\n",
    "q('SELECT * FROM numbs WHERE no1 > 0.5').fetchmany(4)"
   ]
  },
  {
   "cell_type": "code",
   "execution_count": 64,
   "metadata": {
    "ExecuteTime": {
     "end_time": "2020-03-04T07:27:13.694641Z",
     "start_time": "2020-03-04T07:27:13.692107Z"
    }
   },
   "outputs": [],
   "source": [
    "# Defines a pointer object ...\n",
    "pointer = q('SELECT * FROM numbs')"
   ]
  },
  {
   "cell_type": "code",
   "execution_count": 65,
   "metadata": {
    "ExecuteTime": {
     "end_time": "2020-03-04T07:27:13.700684Z",
     "start_time": "2020-03-04T07:27:13.696558Z"
    }
   },
   "outputs": [
    {
     "name": "stdout",
     "output_type": "stream",
     "text": [
      "('2020-03-04 17:55:12.323464', 0.12, 7.3)\n",
      "('2020-03-04 17:55:12.332335', -1.7498, 0.3427)\n",
      "('2020-03-04 17:55:12.332396', 1.153, -0.2524)\n"
     ]
    }
   ],
   "source": [
    "# ... that behaves like a generator object.\n",
    "for i in range(3):\n",
    "    print(pointer.fetchone())"
   ]
  },
  {
   "cell_type": "code",
   "execution_count": 66,
   "metadata": {
    "ExecuteTime": {
     "end_time": "2020-03-04T07:27:13.721671Z",
     "start_time": "2020-03-04T07:27:13.702591Z"
    }
   },
   "outputs": [
    {
     "data": {
      "text/plain": [
       "[('2020-03-04 17:55:12.332521', 0.9813, 0.5142),\n",
       " ('2020-03-04 17:55:12.332644', 0.2212, -1.07),\n",
       " ('2020-03-04 17:55:12.332672', -0.1895, 0.255)]"
      ]
     },
     "execution_count": 66,
     "metadata": {},
     "output_type": "execute_result"
    }
   ],
   "source": [
    "# Retrieves all the remaining rows.\n",
    "rows = pointer.fetchall()\n",
    "rows[:3]"
   ]
  },
  {
   "cell_type": "markdown",
   "metadata": {},
   "source": [
    "Finally, one might want to delete the table object in the database if it’s not required anymore:"
   ]
  },
  {
   "cell_type": "code",
   "execution_count": 67,
   "metadata": {
    "ExecuteTime": {
     "end_time": "2020-03-04T07:27:13.739479Z",
     "start_time": "2020-03-04T07:27:13.723401Z"
    }
   },
   "outputs": [
    {
     "data": {
      "text/plain": [
       "<sqlite3.Cursor at 0x7f1e334c3490>"
      ]
     },
     "execution_count": 67,
     "metadata": {},
     "output_type": "execute_result"
    }
   ],
   "source": [
    "# Removes the table from the database.\n",
    "q('DROP TABLE IF EXISTS numbs')"
   ]
  },
  {
   "cell_type": "code",
   "execution_count": 68,
   "metadata": {
    "ExecuteTime": {
     "end_time": "2020-03-04T07:27:13.744859Z",
     "start_time": "2020-03-04T07:27:13.740978Z"
    }
   },
   "outputs": [
    {
     "data": {
      "text/plain": [
       "[]"
      ]
     },
     "execution_count": 68,
     "metadata": {},
     "output_type": "execute_result"
    }
   ],
   "source": [
    "# There are no table objects left after this operation.\n",
    "q('SELECT * FROM sqlite_master').fetchall()"
   ]
  },
  {
   "cell_type": "code",
   "execution_count": 69,
   "metadata": {
    "ExecuteTime": {
     "end_time": "2020-03-04T07:27:13.749015Z",
     "start_time": "2020-03-04T07:27:13.746592Z"
    }
   },
   "outputs": [],
   "source": [
    "# Closes the database connection.\n",
    "con.close()"
   ]
  },
  {
   "cell_type": "code",
   "execution_count": 70,
   "metadata": {
    "ExecuteTime": {
     "end_time": "2020-03-04T07:27:13.877960Z",
     "start_time": "2020-03-04T07:27:13.759262Z"
    }
   },
   "outputs": [],
   "source": [
    "# Removes the database file from disk.\n",
    "!rm -f $path*"
   ]
  },
  {
   "cell_type": "markdown",
   "metadata": {},
   "source": [
    "SQL databases are a rather broad topic; indeed, too broad and complex to be covered in any significant way in this chapter. The basic messages are:\n",
    "\n",
    "- Python integrates well with almost any database technology.\n",
    "- The basic SQL syntax is mainly determined by the database in use; the rest is what is called \"Pythonic.\"\n",
    "\n",
    "A few more examples based on SQLite3 are included later in this chapter."
   ]
  },
  {
   "cell_type": "markdown",
   "metadata": {},
   "source": [
    "## Writing and Reading NumPy Arrays"
   ]
  },
  {
   "cell_type": "markdown",
   "metadata": {},
   "source": [
    "`Numpy` itself has functions to write and read `ndarray` objects in a convenient and performant fashion. This saves effort in some circumstances, such as when converting `NumPy` `dtype` objects into specific database data types (e.g., for SQLite3). To illustrate that `NumPy` can be an efficient replacement for a SQL-based approach, the following code replicates the example from the previous section with `NumPy`."
   ]
  },
  {
   "cell_type": "markdown",
   "metadata": {},
   "source": [
    "Instead of `pandas`, the code uses the `np.arange()` function of `NumPy` to generate an `ndarray` object with `datetime` objects stored:"
   ]
  },
  {
   "cell_type": "code",
   "execution_count": 71,
   "metadata": {
    "ExecuteTime": {
     "end_time": "2020-03-04T07:27:13.900443Z",
     "start_time": "2020-03-04T07:27:13.882348Z"
    }
   },
   "outputs": [],
   "source": [
    "# Creates an ndarray object with datetime as the dtype .\n",
    "dtimes = np.arange('2019-01-01 10:00:00', '2025-12-31 22:00:00',\n",
    "                   dtype='datetime64[m]')"
   ]
  },
  {
   "cell_type": "code",
   "execution_count": 72,
   "metadata": {
    "ExecuteTime": {
     "end_time": "2020-03-04T07:27:13.906559Z",
     "start_time": "2020-03-04T07:27:13.902402Z"
    }
   },
   "outputs": [
    {
     "data": {
      "text/plain": [
       "3681360"
      ]
     },
     "execution_count": 72,
     "metadata": {},
     "output_type": "execute_result"
    }
   ],
   "source": [
    "len(dtimes)"
   ]
  },
  {
   "cell_type": "code",
   "execution_count": 73,
   "metadata": {
    "ExecuteTime": {
     "end_time": "2020-03-04T07:27:13.911450Z",
     "start_time": "2020-03-04T07:27:13.908328Z"
    }
   },
   "outputs": [],
   "source": [
    "# Defines the special dtype object for the structured array.\n",
    "dty = np.dtype([('Date', 'datetime64[m]'),\n",
    "                ('No1', 'f'), ('No2', 'f')])"
   ]
  },
  {
   "cell_type": "code",
   "execution_count": 74,
   "metadata": {
    "ExecuteTime": {
     "end_time": "2020-03-04T07:27:13.916357Z",
     "start_time": "2020-03-04T07:27:13.913302Z"
    }
   },
   "outputs": [],
   "source": [
    "# Instantiates an ndarray object with the special dtype .\n",
    "data = np.zeros(len(dtimes), dtype=dty)"
   ]
  },
  {
   "cell_type": "code",
   "execution_count": 75,
   "metadata": {
    "ExecuteTime": {
     "end_time": "2020-03-04T07:27:13.964429Z",
     "start_time": "2020-03-04T07:27:13.918217Z"
    }
   },
   "outputs": [],
   "source": [
    "# Populates the Date column.\n",
    "data['Date'] = dtimes"
   ]
  },
  {
   "cell_type": "code",
   "execution_count": 76,
   "metadata": {
    "ExecuteTime": {
     "end_time": "2020-03-04T07:27:14.270965Z",
     "start_time": "2020-03-04T07:27:13.966245Z"
    }
   },
   "outputs": [],
   "source": [
    "# The dummy data sets ...\n",
    "a = np.random.standard_normal((len(dtimes), 2)).round(4)"
   ]
  },
  {
   "cell_type": "code",
   "execution_count": 77,
   "metadata": {
    "ExecuteTime": {
     "end_time": "2020-03-04T07:27:14.296493Z",
     "start_time": "2020-03-04T07:27:14.272641Z"
    }
   },
   "outputs": [],
   "source": [
    "# ... which populate the No1 and No2 columns.\n",
    "data['No1'] = a[:, 0]\n",
    "data['No2'] = a[:, 1]"
   ]
  },
  {
   "cell_type": "code",
   "execution_count": 78,
   "metadata": {
    "ExecuteTime": {
     "end_time": "2020-03-04T07:27:14.302101Z",
     "start_time": "2020-03-04T07:27:14.298201Z"
    }
   },
   "outputs": [
    {
     "data": {
      "text/plain": [
       "58901760"
      ]
     },
     "execution_count": 78,
     "metadata": {},
     "output_type": "execute_result"
    }
   ],
   "source": [
    "# The size of the structured array in bytes.\n",
    "data.nbytes"
   ]
  },
  {
   "cell_type": "markdown",
   "metadata": {},
   "source": [
    "Saving of `ndarray` objects is highly optimized and therefore quite fast. Almost 60 MB of data takes a fraction of a second to save on disk (here using an SSD). A larger `ndarray` object with 480 MB of data takes about half a second to save on disk:"
   ]
  },
  {
   "cell_type": "code",
   "execution_count": 79,
   "metadata": {
    "ExecuteTime": {
     "end_time": "2020-03-04T07:27:14.346182Z",
     "start_time": "2020-03-04T07:27:14.304148Z"
    }
   },
   "outputs": [
    {
     "name": "stdout",
     "output_type": "stream",
     "text": [
      "CPU times: user 0 ns, sys: 21.3 ms, total: 21.3 ms\n",
      "Wall time: 20.8 ms\n"
     ]
    }
   ],
   "source": [
    "# This saves the structured ndarray object on disk.\n",
    "%time np.save(path + 'array', data)"
   ]
  },
  {
   "cell_type": "code",
   "execution_count": 80,
   "metadata": {
    "ExecuteTime": {
     "end_time": "2020-03-04T07:27:14.469607Z",
     "start_time": "2020-03-04T07:27:14.348165Z"
    },
    "slideshow": {
     "slide_type": "fragment"
    }
   },
   "outputs": [
    {
     "name": "stdout",
     "output_type": "stream",
     "text": [
      "-rw-r--r-- 1 jay 58901888 3月   4 17:55 data/array.npy\r\n"
     ]
    }
   ],
   "source": [
    "ll $path*    # The size on disk is hardly larger than in memory (due to binary storage)."
   ]
  },
  {
   "cell_type": "code",
   "execution_count": 81,
   "metadata": {
    "ExecuteTime": {
     "end_time": "2020-03-04T07:27:14.499821Z",
     "start_time": "2020-03-04T07:27:14.471605Z"
    }
   },
   "outputs": [
    {
     "name": "stdout",
     "output_type": "stream",
     "text": [
      "CPU times: user 1.54 ms, sys: 8.35 ms, total: 9.89 ms\n",
      "Wall time: 9.47 ms\n"
     ]
    },
    {
     "data": {
      "text/plain": [
       "array([('2019-01-01T10:00',  1.5131,  0.6973),\n",
       "       ('2019-01-01T10:01', -1.722 , -0.4815),\n",
       "       ('2019-01-01T10:02',  0.8251,  0.3019), ...,\n",
       "       ('2025-12-31T21:57',  1.372 ,  0.6446),\n",
       "       ('2025-12-31T21:58', -1.2542,  0.1612),\n",
       "       ('2025-12-31T21:59', -1.1997, -1.097 )],\n",
       "      dtype=[('Date', '<M8[m]'), ('No1', '<f4'), ('No2', '<f4')])"
      ]
     },
     "execution_count": 81,
     "metadata": {},
     "output_type": "execute_result"
    }
   ],
   "source": [
    "# This loads the structured ndarray object from disk.\n",
    "%time np.load(path + 'array.npy')"
   ]
  },
  {
   "cell_type": "code",
   "execution_count": 82,
   "metadata": {
    "ExecuteTime": {
     "end_time": "2020-03-04T07:27:16.957467Z",
     "start_time": "2020-03-04T07:27:14.501624Z"
    }
   },
   "outputs": [
    {
     "name": "stdout",
     "output_type": "stream",
     "text": [
      "CPU times: user 1.07 s, sys: 50.9 ms, total: 1.13 s\n",
      "Wall time: 1.12 s\n"
     ]
    }
   ],
   "source": [
    "# A larger regular ndarray object.\n",
    "%time data = np.random.standard_normal((10000, 6000)).round(4)"
   ]
  },
  {
   "cell_type": "code",
   "execution_count": 83,
   "metadata": {
    "ExecuteTime": {
     "end_time": "2020-03-04T07:27:16.963383Z",
     "start_time": "2020-03-04T07:27:16.959320Z"
    }
   },
   "outputs": [
    {
     "data": {
      "text/plain": [
       "480000000"
      ]
     },
     "execution_count": 83,
     "metadata": {},
     "output_type": "execute_result"
    }
   ],
   "source": [
    "data.nbytes"
   ]
  },
  {
   "cell_type": "code",
   "execution_count": 84,
   "metadata": {
    "ExecuteTime": {
     "end_time": "2020-03-04T07:27:17.356008Z",
     "start_time": "2020-03-04T07:27:16.965358Z"
    }
   },
   "outputs": [
    {
     "name": "stdout",
     "output_type": "stream",
     "text": [
      "CPU times: user 3.07 ms, sys: 162 ms, total: 165 ms\n",
      "Wall time: 164 ms\n"
     ]
    }
   ],
   "source": [
    "%time np.save(path + 'array', data)"
   ]
  },
  {
   "cell_type": "code",
   "execution_count": 85,
   "metadata": {
    "ExecuteTime": {
     "end_time": "2020-03-04T07:27:17.478657Z",
     "start_time": "2020-03-04T07:27:17.357994Z"
    }
   },
   "outputs": [
    {
     "name": "stdout",
     "output_type": "stream",
     "text": [
      "-rw-r--r-- 1 jay 480000128 3月   4 17:55 data/array.npy\r\n"
     ]
    }
   ],
   "source": [
    "ll $path*"
   ]
  },
  {
   "cell_type": "code",
   "execution_count": 86,
   "metadata": {
    "ExecuteTime": {
     "end_time": "2020-03-04T07:27:17.644247Z",
     "start_time": "2020-03-04T07:27:17.480556Z"
    }
   },
   "outputs": [
    {
     "name": "stdout",
     "output_type": "stream",
     "text": [
      "CPU times: user 0 ns, sys: 71.8 ms, total: 71.8 ms\n",
      "Wall time: 71 ms\n"
     ]
    },
    {
     "data": {
      "text/plain": [
       "array([[ 0.3066,  0.5951,  0.5826, ...,  1.6773,  0.4294, -0.2216],\n",
       "       [ 0.8769,  0.7292, -0.9557, ...,  0.5084,  0.9635, -0.4443],\n",
       "       [-1.2202, -2.5509, -0.0575, ..., -1.6128,  0.4662, -1.3645],\n",
       "       ...,\n",
       "       [-0.5598,  0.2393, -2.3716, ...,  1.7669,  0.2462,  1.035 ],\n",
       "       [ 0.273 ,  0.8216, -0.0749, ..., -0.0552, -0.8396,  0.3077],\n",
       "       [-0.6305,  0.8331,  1.3702, ...,  0.3493,  0.1981,  0.2037]])"
      ]
     },
     "execution_count": 86,
     "metadata": {},
     "output_type": "execute_result"
    }
   ],
   "source": [
    "%time np.load(path + 'array.npy')"
   ]
  },
  {
   "cell_type": "code",
   "execution_count": 87,
   "metadata": {
    "ExecuteTime": {
     "end_time": "2020-03-04T07:27:18.123735Z",
     "start_time": "2020-03-04T07:27:17.646056Z"
    }
   },
   "outputs": [],
   "source": [
    "!rm -f $path*"
   ]
  },
  {
   "cell_type": "markdown",
   "metadata": {},
   "source": [
    "These examples illustrate that writing to disk in this case is mainly hardware-bound, since the speeds observed represent roughly the advertised writing speed of standard SSDs at the time of this writing (about 500 MB/s)."
   ]
  },
  {
   "cell_type": "markdown",
   "metadata": {},
   "source": [
    "In any case, one can expect that this form of data storage and retrieval is faster when compared to SQL databases or using the `pickle` module for serialization. There are two reasons: first, the data is mainly numeric; second, `NumPy` uses **binary storage**, which reduces the overhead almost to zero. Of course, one does not have the functionality of a SQL database available with this approach, but `PyTables` will help in this regard, as subsequent sections show."
   ]
  },
  {
   "cell_type": "markdown",
   "metadata": {},
   "source": [
    "# I/O with pandas"
   ]
  },
  {
   "cell_type": "markdown",
   "metadata": {},
   "source": [
    "One of the major strengths of `pandas` is that it can read and write different data formats natively, including:\n",
    "\n",
    "- CSV (comma-separated values)\n",
    "- SQL (Structured Query Language)\n",
    "- XLS/XSLX (Microsoft Excel files)\n",
    "- JSON (JavaScript Object Notation)\n",
    "- HTML (HyperText Markup Language)"
   ]
  },
  {
   "cell_type": "markdown",
   "metadata": {},
   "source": [
    "The test case is again a larger set of float objects:"
   ]
  },
  {
   "cell_type": "code",
   "execution_count": 88,
   "metadata": {
    "ExecuteTime": {
     "end_time": "2020-03-04T07:27:18.335421Z",
     "start_time": "2020-03-04T07:27:18.127602Z"
    }
   },
   "outputs": [],
   "source": [
    "data = np.random.standard_normal((1000000, 5)).round(4)"
   ]
  },
  {
   "cell_type": "code",
   "execution_count": 89,
   "metadata": {
    "ExecuteTime": {
     "end_time": "2020-03-04T07:27:18.341819Z",
     "start_time": "2020-03-04T07:27:18.337171Z"
    }
   },
   "outputs": [
    {
     "data": {
      "text/plain": [
       "array([[ 0.4918,  1.3707,  0.137 ,  0.3981, -1.0059],\n",
       "       [ 0.4516,  1.4445,  0.0555, -0.0397,  0.44  ],\n",
       "       [ 0.1629, -0.8473, -0.8223, -0.4621, -0.5137]])"
      ]
     },
     "execution_count": 89,
     "metadata": {},
     "output_type": "execute_result"
    }
   ],
   "source": [
    "data[:3]"
   ]
  },
  {
   "cell_type": "markdown",
   "metadata": {},
   "source": [
    "To this end, this section also revisits SQLite3 and compares the performance to alternative formats using `pandas`."
   ]
  },
  {
   "cell_type": "markdown",
   "metadata": {},
   "source": [
    "## Working with SQL Databases"
   ]
  },
  {
   "cell_type": "markdown",
   "metadata": {},
   "source": [
    "All that follows with regard to SQLite3 should be familiar by now:"
   ]
  },
  {
   "cell_type": "code",
   "execution_count": 90,
   "metadata": {
    "ExecuteTime": {
     "end_time": "2020-03-04T07:27:18.346050Z",
     "start_time": "2020-03-04T07:27:18.343473Z"
    }
   },
   "outputs": [],
   "source": [
    "filename = path + 'numbers'"
   ]
  },
  {
   "cell_type": "code",
   "execution_count": 91,
   "metadata": {
    "ExecuteTime": {
     "end_time": "2020-03-04T07:27:18.350368Z",
     "start_time": "2020-03-04T07:27:18.347619Z"
    }
   },
   "outputs": [],
   "source": [
    "con = sq3.Connection(filename + '.db')"
   ]
  },
  {
   "cell_type": "code",
   "execution_count": 92,
   "metadata": {
    "ExecuteTime": {
     "end_time": "2020-03-04T07:27:18.354606Z",
     "start_time": "2020-03-04T07:27:18.351973Z"
    }
   },
   "outputs": [],
   "source": [
    "# Creates a table with five columns for real numbers ( float objects).\n",
    "query = 'CREATE TABLE numbers (No1 real, No2 real,\\\n",
    "        No3 real, No4 real, No5 real)'"
   ]
  },
  {
   "cell_type": "code",
   "execution_count": 93,
   "metadata": {
    "ExecuteTime": {
     "end_time": "2020-03-04T07:27:18.358712Z",
     "start_time": "2020-03-04T07:27:18.356201Z"
    }
   },
   "outputs": [],
   "source": [
    "q = con.execute\n",
    "qm = con.executemany"
   ]
  },
  {
   "cell_type": "code",
   "execution_count": 94,
   "metadata": {
    "ExecuteTime": {
     "end_time": "2020-03-04T07:27:18.370043Z",
     "start_time": "2020-03-04T07:27:18.360273Z"
    }
   },
   "outputs": [
    {
     "data": {
      "text/plain": [
       "<sqlite3.Cursor at 0x7f1e33568880>"
      ]
     },
     "execution_count": 94,
     "metadata": {},
     "output_type": "execute_result"
    }
   ],
   "source": [
    "q(query)"
   ]
  },
  {
   "cell_type": "markdown",
   "metadata": {},
   "source": [
    "This time, the `.executemany()` method can be applied since the data is available in a single ndarray object. Reading and working with the data works as before. Query results can also be visualized easily:"
   ]
  },
  {
   "cell_type": "code",
   "execution_count": 95,
   "metadata": {
    "ExecuteTime": {
     "end_time": "2020-03-04T07:27:28.078508Z",
     "start_time": "2020-03-04T07:27:18.371630Z"
    }
   },
   "outputs": [
    {
     "name": "stdout",
     "output_type": "stream",
     "text": [
      "CPU times: user 3.96 s, sys: 45.9 ms, total: 4 s\n",
      "Wall time: 4.03 s\n"
     ]
    }
   ],
   "source": [
    "%%time\n",
    "# Inserts the whole data set into the table in a single step.\n",
    "qm('INSERT INTO numbers VALUES (?, ?, ?, ?, ?)', data)\n",
    "con.commit()"
   ]
  },
  {
   "cell_type": "code",
   "execution_count": 96,
   "metadata": {
    "ExecuteTime": {
     "end_time": "2020-03-04T07:27:28.201160Z",
     "start_time": "2020-03-04T07:27:28.080340Z"
    }
   },
   "outputs": [
    {
     "name": "stdout",
     "output_type": "stream",
     "text": [
      "-rw-r--r-- 1 jay 52633600 3月   4 17:55 data/numbers.db\r\n"
     ]
    }
   ],
   "source": [
    "ll $path*"
   ]
  },
  {
   "cell_type": "code",
   "execution_count": 97,
   "metadata": {},
   "outputs": [
    {
     "name": "stdout",
     "output_type": "stream",
     "text": [
      "[(0.4918, 1.3707, 0.137, 0.3981, -1.0059), (0.4516, 1.4445, 0.0555, -0.0397, 0.44), (0.1629, -0.8473, -0.8223, -0.4621, -0.5137)]\n",
      "CPU times: user 655 ms, sys: 55.9 ms, total: 711 ms\n",
      "Wall time: 710 ms\n"
     ]
    }
   ],
   "source": [
    "%%time\n",
    "# Retrieves all the rows from the table in a single step.\n",
    "temp = q('SELECT * FROM numbers').fetchall()\n",
    "print(temp[:3])"
   ]
  },
  {
   "cell_type": "code",
   "execution_count": 98,
   "metadata": {
    "ExecuteTime": {
     "end_time": "2020-03-04T07:27:29.106527Z",
     "start_time": "2020-03-04T07:27:28.204893Z"
    }
   },
   "outputs": [
    {
     "name": "stdout",
     "output_type": "stream",
     "text": [
      "CPU times: user 273 ms, sys: 32.1 ms, total: 305 ms\n",
      "Wall time: 304 ms\n"
     ]
    }
   ],
   "source": [
    "%%time\n",
    "# Retrieves a selection of the rows and transforms it to an ndarray object.\n",
    "query = 'SELECT * FROM numbers WHERE No1 > 0 AND No2 < 0'\n",
    "res = np.array(q(query).fetchall()).round(3)"
   ]
  },
  {
   "cell_type": "code",
   "execution_count": 99,
   "metadata": {
    "ExecuteTime": {
     "end_time": "2020-03-04T07:27:29.314666Z",
     "start_time": "2020-03-04T07:27:29.108303Z"
    }
   },
   "outputs": [
    {
     "data": {
      "text/plain": [
       "[<matplotlib.lines.Line2D at 0x7f1df6931050>]"
      ]
     },
     "execution_count": 99,
     "metadata": {},
     "output_type": "execute_result"
    },
    {
     "data": {
      "image/png": "[encoded data removed]",
      "text/plain": [
       "<Figure size 720x432 with 1 Axes>"
      ]
     },
     "metadata": {
      "needs_background": "light"
     },
     "output_type": "display_data"
    }
   ],
   "source": [
    "# Plots a subset of the query result.\n",
    "res = res[::100]\n",
    "plt.figure(figsize=(10, 6))\n",
    "plt.plot(res[:, 0], res[:, 1], 'ro')"
   ]
  },
  {
   "cell_type": "markdown",
   "metadata": {},
   "source": [
    "## From SQL to pandas"
   ]
  },
  {
   "cell_type": "markdown",
   "metadata": {},
   "source": [
    "A generally more efficient approach, however, is the reading of either whole tables or query results with `pandas`. When one can read a whole table into memory, analytical queries can generally be executed much faster than when using the SQL disk-based approach (out-of-memory)."
   ]
  },
  {
   "cell_type": "markdown",
   "metadata": {},
   "source": [
    "Reading the whole table with pandas takes roughly the same amount of time as reading it into a `NumPy` `ndarray` object. There as here, the bottleneck performance-wise is the SQL database:"
   ]
  },
  {
   "cell_type": "code",
   "execution_count": 100,
   "metadata": {
    "ExecuteTime": {
     "end_time": "2020-03-04T07:27:31.982685Z",
     "start_time": "2020-03-04T07:27:29.316441Z"
    }
   },
   "outputs": [
    {
     "name": "stdout",
     "output_type": "stream",
     "text": [
      "CPU times: user 983 ms, sys: 87.9 ms, total: 1.07 s\n",
      "Wall time: 1.07 s\n"
     ]
    }
   ],
   "source": [
    "# Reads all rows of the table into the DataFrame object named data .\n",
    "%time data = pd.read_sql('SELECT * FROM numbers', con)"
   ]
  },
  {
   "cell_type": "code",
   "execution_count": 101,
   "metadata": {
    "ExecuteTime": {
     "end_time": "2020-03-04T07:27:32.001140Z",
     "start_time": "2020-03-04T07:27:31.984473Z"
    }
   },
   "outputs": [
    {
     "data": {
      "text/html": [
       "<div>\n",
       "<style scoped>\n",
       "    .dataframe tbody tr th:only-of-type {\n",
       "        vertical-align: middle;\n",
       "    }\n",
       "\n",
       "    .dataframe tbody tr th {\n",
       "        vertical-align: top;\n",
       "    }\n",
       "\n",
       "    .dataframe thead th {\n",
       "        text-align: right;\n",
       "    }\n",
       "</style>\n",
       "<table border=\"1\" class=\"dataframe\">\n",
       "  <thead>\n",
       "    <tr style=\"text-align: right;\">\n",
       "      <th></th>\n",
       "      <th>No1</th>\n",
       "      <th>No2</th>\n",
       "      <th>No3</th>\n",
       "      <th>No4</th>\n",
       "      <th>No5</th>\n",
       "    </tr>\n",
       "  </thead>\n",
       "  <tbody>\n",
       "    <tr>\n",
       "      <th>0</th>\n",
       "      <td>0.4918</td>\n",
       "      <td>1.3707</td>\n",
       "      <td>0.1370</td>\n",
       "      <td>0.3981</td>\n",
       "      <td>-1.0059</td>\n",
       "    </tr>\n",
       "    <tr>\n",
       "      <th>1</th>\n",
       "      <td>0.4516</td>\n",
       "      <td>1.4445</td>\n",
       "      <td>0.0555</td>\n",
       "      <td>-0.0397</td>\n",
       "      <td>0.4400</td>\n",
       "    </tr>\n",
       "    <tr>\n",
       "      <th>2</th>\n",
       "      <td>0.1629</td>\n",
       "      <td>-0.8473</td>\n",
       "      <td>-0.8223</td>\n",
       "      <td>-0.4621</td>\n",
       "      <td>-0.5137</td>\n",
       "    </tr>\n",
       "    <tr>\n",
       "      <th>3</th>\n",
       "      <td>1.3064</td>\n",
       "      <td>0.9125</td>\n",
       "      <td>0.5142</td>\n",
       "      <td>-0.7868</td>\n",
       "      <td>-0.3398</td>\n",
       "    </tr>\n",
       "    <tr>\n",
       "      <th>4</th>\n",
       "      <td>-0.1148</td>\n",
       "      <td>-1.5215</td>\n",
       "      <td>-0.7045</td>\n",
       "      <td>-1.0042</td>\n",
       "      <td>-0.0600</td>\n",
       "    </tr>\n",
       "  </tbody>\n",
       "</table>\n",
       "</div>"
      ],
      "text/plain": [
       "      No1     No2     No3     No4     No5\n",
       "0  0.4918  1.3707  0.1370  0.3981 -1.0059\n",
       "1  0.4516  1.4445  0.0555 -0.0397  0.4400\n",
       "2  0.1629 -0.8473 -0.8223 -0.4621 -0.5137\n",
       "3  1.3064  0.9125  0.5142 -0.7868 -0.3398\n",
       "4 -0.1148 -1.5215 -0.7045 -1.0042 -0.0600"
      ]
     },
     "execution_count": 101,
     "metadata": {},
     "output_type": "execute_result"
    }
   ],
   "source": [
    "data.head()"
   ]
  },
  {
   "cell_type": "markdown",
   "metadata": {},
   "source": [
    "The data is now in-memory, which allows for much faster analytics. The speedup is often an order of magnitude or more. `pandas` can also master more complex queries, although it is neither meant nor able to replace SQL databases when it comes to complex relational data structures. The result of the query with multiple conditions combined is shown:"
   ]
  },
  {
   "cell_type": "code",
   "execution_count": 102,
   "metadata": {
    "ExecuteTime": {
     "end_time": "2020-03-04T07:27:32.032791Z",
     "start_time": "2020-03-04T07:27:32.002961Z"
    }
   },
   "outputs": [
    {
     "name": "stdout",
     "output_type": "stream",
     "text": [
      "CPU times: user 9.39 ms, sys: 116 µs, total: 9.5 ms\n",
      "Wall time: 9.1 ms\n"
     ]
    },
    {
     "data": {
      "text/html": [
       "<div>\n",
       "<style scoped>\n",
       "    .dataframe tbody tr th:only-of-type {\n",
       "        vertical-align: middle;\n",
       "    }\n",
       "\n",
       "    .dataframe tbody tr th {\n",
       "        vertical-align: top;\n",
       "    }\n",
       "\n",
       "    .dataframe thead th {\n",
       "        text-align: right;\n",
       "    }\n",
       "</style>\n",
       "<table border=\"1\" class=\"dataframe\">\n",
       "  <thead>\n",
       "    <tr style=\"text-align: right;\">\n",
       "      <th></th>\n",
       "      <th>No1</th>\n",
       "      <th>No2</th>\n",
       "      <th>No3</th>\n",
       "      <th>No4</th>\n",
       "      <th>No5</th>\n",
       "    </tr>\n",
       "  </thead>\n",
       "  <tbody>\n",
       "    <tr>\n",
       "      <th>2</th>\n",
       "      <td>0.1629</td>\n",
       "      <td>-0.8473</td>\n",
       "      <td>-0.8223</td>\n",
       "      <td>-0.4621</td>\n",
       "      <td>-0.5137</td>\n",
       "    </tr>\n",
       "    <tr>\n",
       "      <th>5</th>\n",
       "      <td>0.1893</td>\n",
       "      <td>-0.0207</td>\n",
       "      <td>-0.2104</td>\n",
       "      <td>0.9419</td>\n",
       "      <td>0.2551</td>\n",
       "    </tr>\n",
       "    <tr>\n",
       "      <th>8</th>\n",
       "      <td>1.4784</td>\n",
       "      <td>-0.3333</td>\n",
       "      <td>-0.7050</td>\n",
       "      <td>0.3586</td>\n",
       "      <td>-0.3937</td>\n",
       "    </tr>\n",
       "    <tr>\n",
       "      <th>10</th>\n",
       "      <td>0.8092</td>\n",
       "      <td>-0.9899</td>\n",
       "      <td>1.0364</td>\n",
       "      <td>-1.0453</td>\n",
       "      <td>0.0579</td>\n",
       "    </tr>\n",
       "    <tr>\n",
       "      <th>11</th>\n",
       "      <td>0.9065</td>\n",
       "      <td>-0.7757</td>\n",
       "      <td>-0.9267</td>\n",
       "      <td>0.7797</td>\n",
       "      <td>0.0863</td>\n",
       "    </tr>\n",
       "  </tbody>\n",
       "</table>\n",
       "</div>"
      ],
      "text/plain": [
       "       No1     No2     No3     No4     No5\n",
       "2   0.1629 -0.8473 -0.8223 -0.4621 -0.5137\n",
       "5   0.1893 -0.0207 -0.2104  0.9419  0.2551\n",
       "8   1.4784 -0.3333 -0.7050  0.3586 -0.3937\n",
       "10  0.8092 -0.9899  1.0364 -1.0453  0.0579\n",
       "11  0.9065 -0.7757 -0.9267  0.7797  0.0863"
      ]
     },
     "execution_count": 102,
     "metadata": {},
     "output_type": "execute_result"
    }
   ],
   "source": [
    "# Two conditions combined logically.\n",
    "%time data[(data['No1'] > 0) & (data['No2'] < 0)].head()"
   ]
  },
  {
   "cell_type": "code",
   "execution_count": 103,
   "metadata": {
    "ExecuteTime": {
     "end_time": "2020-03-04T07:27:32.082021Z",
     "start_time": "2020-03-04T07:27:32.034545Z"
    }
   },
   "outputs": [
    {
     "name": "stdout",
     "output_type": "stream",
     "text": [
      "CPU times: user 26.7 ms, sys: 904 µs, total: 27.6 ms\n",
      "Wall time: 16.4 ms\n"
     ]
    }
   ],
   "source": [
    "%%time\n",
    "# Four conditions combined logically.\n",
    "q = '(No1 < -0.5 | No1 > 0.5) & (No2 < -1 | No2 > 1)'\n",
    "res = data[['No1', 'No2']].query(q)"
   ]
  },
  {
   "cell_type": "code",
   "execution_count": 104,
   "metadata": {
    "ExecuteTime": {
     "end_time": "2020-03-04T07:27:32.710608Z",
     "start_time": "2020-03-04T07:27:32.083741Z"
    }
   },
   "outputs": [
    {
     "data": {
      "image/png": "[encoded data removed]",
      "text/plain": [
       "<Figure size 720x432 with 1 Axes>"
      ]
     },
     "metadata": {
      "needs_background": "light"
     },
     "output_type": "display_data"
    }
   ],
   "source": [
    "plt.figure(figsize=(10, 6))\n",
    "plt.plot(res['No1'], res['No2'], 'ro');"
   ]
  },
  {
   "cell_type": "markdown",
   "metadata": {},
   "source": [
    "As expected, using the in-memory analytics capabilities of `pandas` leads to a significant speedup, provided `pandas` is able to replicate the respective SQL statement."
   ]
  },
  {
   "cell_type": "code",
   "execution_count": 105,
   "metadata": {
    "ExecuteTime": {
     "end_time": "2020-03-04T07:27:32.985249Z",
     "start_time": "2020-03-04T07:27:32.712629Z"
    }
   },
   "outputs": [],
   "source": [
    "# This opens an HDF5 database file for writing; in pandas an HDFStore\n",
    "# object is created.\n",
    "h5s = pd.HDFStore(filename + '.h5s', 'w')"
   ]
  },
  {
   "cell_type": "code",
   "execution_count": 106,
   "metadata": {
    "ExecuteTime": {
     "end_time": "2020-03-04T07:27:33.052730Z",
     "start_time": "2020-03-04T07:27:32.986999Z"
    }
   },
   "outputs": [
    {
     "name": "stdout",
     "output_type": "stream",
     "text": [
      "CPU times: user 17.6 ms, sys: 20.2 ms, total: 37.8 ms\n",
      "Wall time: 37.3 ms\n"
     ]
    }
   ],
   "source": [
    "# The complete DataFrame object is stored in the database file via binary\n",
    "# storage.\n",
    "%time h5s['data'] = data"
   ]
  },
  {
   "cell_type": "code",
   "execution_count": 107,
   "metadata": {
    "ExecuteTime": {
     "end_time": "2020-03-04T07:27:33.059644Z",
     "start_time": "2020-03-04T07:27:33.054718Z"
    }
   },
   "outputs": [
    {
     "data": {
      "text/plain": [
       "<class 'pandas.io.pytables.HDFStore'>\n",
       "File path: data/numbers.h5s"
      ]
     },
     "execution_count": 107,
     "metadata": {},
     "output_type": "execute_result"
    }
   ],
   "source": [
    "# The HDFStore object information.\n",
    "h5s"
   ]
  },
  {
   "cell_type": "code",
   "execution_count": 108,
   "metadata": {
    "ExecuteTime": {
     "end_time": "2020-03-04T07:27:33.064420Z",
     "start_time": "2020-03-04T07:27:33.061294Z"
    }
   },
   "outputs": [],
   "source": [
    "# The database file is closed.\n",
    "h5s.close()"
   ]
  },
  {
   "cell_type": "markdown",
   "metadata": {},
   "source": [
    "The whole `DataFrame` with all the data from the original SQL table is written much faster when compared to the same procedure with SQLite3. Reading is even faster:"
   ]
  },
  {
   "cell_type": "code",
   "execution_count": 109,
   "metadata": {
    "ExecuteTime": {
     "end_time": "2020-03-04T07:27:33.091241Z",
     "start_time": "2020-03-04T07:27:33.066204Z"
    }
   },
   "outputs": [
    {
     "name": "stdout",
     "output_type": "stream",
     "text": [
      "CPU times: user 7.7 ms, sys: 16.1 ms, total: 23.8 ms\n",
      "Wall time: 23.1 ms\n"
     ]
    }
   ],
   "source": [
    "%%time\n",
    "# This opens the HDF5 database file for reading.\n",
    "h5s = pd.HDFStore(filename + '.h5s', 'r')\n",
    "# The DataFrame is read and stored in-memory as data_ .\n",
    "data_ = h5s['data']\n",
    "# The database file is closed.\n",
    "h5s.close()"
   ]
  },
  {
   "cell_type": "code",
   "execution_count": 110,
   "metadata": {
    "ExecuteTime": {
     "end_time": "2020-03-04T07:27:33.097351Z",
     "start_time": "2020-03-04T07:27:33.093354Z"
    }
   },
   "outputs": [
    {
     "data": {
      "text/plain": [
       "False"
      ]
     },
     "execution_count": 110,
     "metadata": {},
     "output_type": "execute_result"
    }
   ],
   "source": [
    "# The two DataFrame objects are not the same ...\n",
    "data_ is data"
   ]
  },
  {
   "cell_type": "code",
   "execution_count": 111,
   "metadata": {
    "ExecuteTime": {
     "end_time": "2020-03-04T07:27:33.139509Z",
     "start_time": "2020-03-04T07:27:33.099553Z"
    }
   },
   "outputs": [
    {
     "data": {
      "text/plain": [
       "No1    True\n",
       "No2    True\n",
       "No3    True\n",
       "No4    True\n",
       "No5    True\n",
       "dtype: bool"
      ]
     },
     "execution_count": 111,
     "metadata": {},
     "output_type": "execute_result"
    }
   ],
   "source": [
    "# ... but they now contain the same data.\n",
    "(data_ == data).all()"
   ]
  },
  {
   "cell_type": "code",
   "execution_count": 112,
   "metadata": {
    "ExecuteTime": {
     "end_time": "2020-03-04T07:27:33.205488Z",
     "start_time": "2020-03-04T07:27:33.141145Z"
    }
   },
   "outputs": [
    {
     "data": {
      "text/plain": [
       "True"
      ]
     },
     "execution_count": 112,
     "metadata": {},
     "output_type": "execute_result"
    }
   ],
   "source": [
    "np.allclose(data_, data)"
   ]
  },
  {
   "cell_type": "code",
   "execution_count": 113,
   "metadata": {
    "ExecuteTime": {
     "end_time": "2020-03-04T07:27:33.331077Z",
     "start_time": "2020-03-04T07:27:33.207346Z"
    }
   },
   "outputs": [
    {
     "name": "stdout",
     "output_type": "stream",
     "text": [
      "-rw-r--r-- 1 jay 52633600 3月   4 17:55 data/numbers.db\r\n",
      "-rw-r--r-- 1 jay 48007240 3月   4 17:55 data/numbers.h5s\r\n"
     ]
    }
   ],
   "source": [
    "ll $path*    # Binary storage generally comes with less size overhead compared to SQL tables, for instance."
   ]
  },
  {
   "cell_type": "markdown",
   "metadata": {},
   "source": [
    "## Working with CSV Files"
   ]
  },
  {
   "cell_type": "markdown",
   "metadata": {},
   "source": [
    "One of the most widely used formats to exchange financial data is the CSV format. Although it is not really standardized, it can be processed by any platform and the vast majority of applications concerned with data and financial analytics. Earlier, we saw how to write and read data to and from CSV files with standard Python functionality. `pandas` makes this whole procedure a bit more convenient, the code more concise, and the execution in general faster:"
   ]
  },
  {
   "cell_type": "code",
   "execution_count": 114,
   "metadata": {
    "ExecuteTime": {
     "end_time": "2020-03-04T07:27:41.165075Z",
     "start_time": "2020-03-04T07:27:33.332891Z"
    }
   },
   "outputs": [
    {
     "name": "stdout",
     "output_type": "stream",
     "text": [
      "CPU times: user 3.23 s, sys: 22.8 ms, total: 3.25 s\n",
      "Wall time: 3.25 s\n"
     ]
    }
   ],
   "source": [
    "# The .to_csv() method writes the DataFrame data to disk in CSV format.\n",
    "%time data.to_csv(filename + '.csv')"
   ]
  },
  {
   "cell_type": "code",
   "execution_count": 115,
   "metadata": {
    "ExecuteTime": {
     "end_time": "2020-03-04T07:27:41.293026Z",
     "start_time": "2020-03-04T07:27:41.167147Z"
    }
   },
   "outputs": [
    {
     "name": "stdout",
     "output_type": "stream",
     "text": [
      "total 141092\r\n",
      "-rw-r--r-- 1 jay 43834157 3月   4 17:55 numbers.csv\r\n",
      "-rw-r--r-- 1 jay 52633600 3月   4 17:55 numbers.db\r\n",
      "-rw-r--r-- 1 jay 48007240 3月   4 17:55 numbers.h5s\r\n"
     ]
    }
   ],
   "source": [
    "ll $path"
   ]
  },
  {
   "cell_type": "code",
   "execution_count": 116,
   "metadata": {
    "ExecuteTime": {
     "end_time": "2020-03-04T07:27:41.930340Z",
     "start_time": "2020-03-04T07:27:41.296792Z"
    }
   },
   "outputs": [
    {
     "name": "stdout",
     "output_type": "stream",
     "text": [
      "CPU times: user 266 ms, sys: 20.1 ms, total: 286 ms\n",
      "Wall time: 285 ms\n"
     ]
    }
   ],
   "source": [
    "# The pd.read_csv() method then reads it back into memory as a new\n",
    "# DataFrame object.\n",
    "%time df = pd.read_csv(filename + '.csv')"
   ]
  },
  {
   "cell_type": "code",
   "execution_count": 117,
   "metadata": {
    "ExecuteTime": {
     "end_time": "2020-03-04T07:27:42.714252Z",
     "start_time": "2020-03-04T07:27:41.932166Z"
    }
   },
   "outputs": [
    {
     "data": {
      "image/png": "[encoded data removed]",
      "text/plain": [
       "<Figure size 720x432 with 4 Axes>"
      ]
     },
     "metadata": {
      "needs_background": "light"
     },
     "output_type": "display_data"
    }
   ],
   "source": [
    "df[['No1', 'No2', 'No3', 'No4']].hist(bins=20, figsize=(10, 6));"
   ]
  },
  {
   "cell_type": "markdown",
   "metadata": {},
   "source": [
    "## Working with Excel Files"
   ]
  },
  {
   "cell_type": "markdown",
   "metadata": {},
   "source": [
    "The following code briefly demonstrates how `pandas` can write data in Excel format and read data from Excel spreadsheets. In this case, the data set is restricted to 100,000 rows:"
   ]
  },
  {
   "cell_type": "code",
   "execution_count": 118,
   "metadata": {
    "ExecuteTime": {
     "end_time": "2020-03-04T07:27:54.882469Z",
     "start_time": "2020-03-04T07:27:42.716117Z"
    }
   },
   "outputs": [
    {
     "name": "stdout",
     "output_type": "stream",
     "text": [
      "CPU times: user 7.63 s, sys: 111 ms, total: 7.74 s\n",
      "Wall time: 7.75 s\n"
     ]
    }
   ],
   "source": [
    "# The .to_excel() method writes the DataFrame data to disk in XLSX\n",
    "# format.\n",
    "%time data[:100000].to_excel(filename + '.xlsx', index=False)"
   ]
  },
  {
   "cell_type": "code",
   "execution_count": 119,
   "metadata": {
    "ExecuteTime": {
     "end_time": "2020-03-04T07:28:03.073808Z",
     "start_time": "2020-03-04T07:27:54.884392Z"
    }
   },
   "outputs": [
    {
     "name": "stdout",
     "output_type": "stream",
     "text": [
      "CPU times: user 3.3 s, sys: 32.1 ms, total: 3.33 s\n",
      "Wall time: 3.33 s\n"
     ]
    }
   ],
   "source": [
    "# The pd.read_excel() method then reads it back into memory as a new\n",
    "# DataFrame object, also specifying the sheet from which to read.\n",
    "%time df = pd.read_excel(filename + '.xlsx', 'Sheet1')"
   ]
  },
  {
   "cell_type": "code",
   "execution_count": 120,
   "metadata": {
    "ExecuteTime": {
     "end_time": "2020-03-04T07:28:04.136982Z",
     "start_time": "2020-03-04T07:28:03.075707Z"
    }
   },
   "outputs": [
    {
     "data": {
      "image/png": "[encoded data removed]",
      "text/plain": [
       "<Figure size 720x432 with 1 Axes>"
      ]
     },
     "metadata": {
      "needs_background": "light"
     },
     "output_type": "display_data"
    }
   ],
   "source": [
    "df.cumsum().plot(figsize=(10, 6));"
   ]
  },
  {
   "cell_type": "code",
   "execution_count": 121,
   "metadata": {
    "ExecuteTime": {
     "end_time": "2020-03-04T07:28:04.274083Z",
     "start_time": "2020-03-04T07:28:04.139242Z"
    }
   },
   "outputs": [
    {
     "name": "stdout",
     "output_type": "stream",
     "text": [
      "-rw-r--r-- 1 jay 43834157 3月   4 17:55 data/numbers.csv\r\n",
      "-rw-r--r-- 1 jay 52633600 3月   4 17:55 data/numbers.db\r\n",
      "-rw-r--r-- 1 jay 48007240 3月   4 17:55 data/numbers.h5s\r\n",
      "-rw-r--r-- 1 jay  3331870 3月   4 17:55 data/numbers.xlsx\r\n"
     ]
    }
   ],
   "source": [
    "ll $path*"
   ]
  },
  {
   "cell_type": "code",
   "execution_count": 122,
   "metadata": {
    "ExecuteTime": {
     "end_time": "2020-03-04T07:28:04.493305Z",
     "start_time": "2020-03-04T07:28:04.276572Z"
    }
   },
   "outputs": [],
   "source": [
    "rm -f $path*"
   ]
  },
  {
   "cell_type": "markdown",
   "metadata": {},
   "source": [
    "Generating the Excel spreadsheet file with a smaller subset of the data takes quite a while. This illustrates what kind of overhead the spreadsheet structure brings along with it."
   ]
  },
  {
   "cell_type": "markdown",
   "metadata": {},
   "source": [
    "Inspection of the generated files reveals that the `DataFrame` with `HDFStore` combination is the most compact alternative (using compression, as described in the next section, further increases the benefits). The same amount of data as a CSV file — i.e., as a text file — is somewhat larger in size. This is one reason for the slower performance when working with CSV files, the other being the very fact that they are \"only\" general text files."
   ]
  },
  {
   "cell_type": "markdown",
   "metadata": {},
   "source": [
    "# I/O with PyTables"
   ]
  },
  {
   "cell_type": "markdown",
   "metadata": {},
   "source": [
    "`PyTables` is a Python binding for the HDF5 database standard. It is specifically designed to optimize the performance of I/O operations and make best use of the available hardware. The library's import name is `tables`. Similar to pandas, when it comes to in-memory analytics `PyTables` is neither able nor meant to be a\n",
    "**full replacement** for SQL databases. However, it brings along some features that further close the gap. For example, a `PyTables` database can have **many tables**, and it supports compression and indexing and also nontrivial queries on tables. In addition, it can store `NumPy` arrays efficiently and has its own flavor of array-like data structures."
   ]
  },
  {
   "cell_type": "markdown",
   "metadata": {},
   "source": [
    "To begin with, some imports:"
   ]
  },
  {
   "cell_type": "code",
   "execution_count": 5,
   "metadata": {
    "ExecuteTime": {
     "end_time": "2020-03-04T23:17:54.137041Z",
     "start_time": "2020-03-04T23:17:54.012735Z"
    }
   },
   "outputs": [],
   "source": [
    "# The package name is PyTables , the import name is tables .\n",
    "import tables as tb\n",
    "import datetime as dt"
   ]
  },
  {
   "cell_type": "markdown",
   "metadata": {},
   "source": [
    "## Working with Tables"
   ]
  },
  {
   "cell_type": "markdown",
   "metadata": {},
   "source": [
    "`PyTables` provides a **file-based** database format, similar to SQLite3. The following opens a database file and creates a table:"
   ]
  },
  {
   "cell_type": "code",
   "execution_count": 124,
   "metadata": {
    "ExecuteTime": {
     "end_time": "2020-03-04T07:28:04.506455Z",
     "start_time": "2020-03-04T07:28:04.503006Z"
    }
   },
   "outputs": [],
   "source": [
    "filename = path + 'pytab.h5'"
   ]
  },
  {
   "cell_type": "code",
   "execution_count": 125,
   "metadata": {
    "ExecuteTime": {
     "end_time": "2020-03-04T07:28:04.513989Z",
     "start_time": "2020-03-04T07:28:04.508458Z"
    }
   },
   "outputs": [],
   "source": [
    "# Opens the database file in HDF5 binary storage format.\n",
    "h5 = tb.open_file(filename, 'w')"
   ]
  },
  {
   "cell_type": "code",
   "execution_count": 126,
   "metadata": {
    "ExecuteTime": {
     "end_time": "2020-03-04T07:28:04.520144Z",
     "start_time": "2020-03-04T07:28:04.515933Z"
    }
   },
   "outputs": [],
   "source": [
    "row_des = {\n",
    "    'Date': tb.StringCol(26, pos=1),    # The Date column for date-time information (as a str object).\n",
    "    'No1': tb.IntCol(pos=2),    # The two columns to store int objects.\n",
    "    'No2': tb.IntCol(pos=3),\n",
    "    'No3': tb.Float64Col(pos=4),    # The two columns to store float objects.\n",
    "    'No4': tb.Float64Col(pos=5)\n",
    "    }"
   ]
  },
  {
   "cell_type": "code",
   "execution_count": 127,
   "metadata": {
    "ExecuteTime": {
     "end_time": "2020-03-04T07:28:04.526647Z",
     "start_time": "2020-03-04T07:28:04.521992Z"
    }
   },
   "outputs": [],
   "source": [
    "rows = 2000000"
   ]
  },
  {
   "cell_type": "code",
   "execution_count": 128,
   "metadata": {
    "ExecuteTime": {
     "end_time": "2020-03-04T07:28:04.531662Z",
     "start_time": "2020-03-04T07:28:04.528515Z"
    }
   },
   "outputs": [],
   "source": [
    "# Via Filters objects, compression levels can be specified, among other\n",
    "# things.\n",
    "filters = tb.Filters(complevel=0)"
   ]
  },
  {
   "cell_type": "code",
   "execution_count": 129,
   "metadata": {
    "ExecuteTime": {
     "end_time": "2020-03-04T07:28:04.540674Z",
     "start_time": "2020-03-04T07:28:04.533523Z"
    }
   },
   "outputs": [],
   "source": [
    "tab = h5.create_table('/', 'ints_floats',    # The node (path) and technical name of the table.\n",
    "                      row_des,    # The description of the row data structure.\n",
    "                      title='Integers and Floats',    # The name (title) of the table.\n",
    "                      expectedrows=rows,    # The expected number of rows; allows for optimizations.\n",
    "                      filters=filters)    # The Filters object to be used for the table."
   ]
  },
  {
   "cell_type": "code",
   "execution_count": 130,
   "metadata": {
    "ExecuteTime": {
     "end_time": "2020-03-04T07:28:04.547037Z",
     "start_time": "2020-03-04T07:28:04.542455Z"
    }
   },
   "outputs": [
    {
     "data": {
      "text/plain": [
       "tables.table.Table"
      ]
     },
     "execution_count": 130,
     "metadata": {},
     "output_type": "execute_result"
    }
   ],
   "source": [
    "type(tab)"
   ]
  },
  {
   "cell_type": "code",
   "execution_count": 131,
   "metadata": {
    "ExecuteTime": {
     "end_time": "2020-03-04T07:28:04.553570Z",
     "start_time": "2020-03-04T07:28:04.549114Z"
    }
   },
   "outputs": [
    {
     "data": {
      "text/plain": [
       "/ints_floats (Table(0,)) 'Integers and Floats'\n",
       "  description := {\n",
       "  \"Date\": StringCol(itemsize=26, shape=(), dflt=b'', pos=0),\n",
       "  \"No1\": Int32Col(shape=(), dflt=0, pos=1),\n",
       "  \"No2\": Int32Col(shape=(), dflt=0, pos=2),\n",
       "  \"No3\": Float64Col(shape=(), dflt=0.0, pos=3),\n",
       "  \"No4\": Float64Col(shape=(), dflt=0.0, pos=4)}\n",
       "  byteorder := 'little'\n",
       "  chunkshape := (2621,)"
      ]
     },
     "execution_count": 131,
     "metadata": {},
     "output_type": "execute_result"
    }
   ],
   "source": [
    "tab"
   ]
  },
  {
   "cell_type": "markdown",
   "metadata": {},
   "source": [
    "To populate the table with numerical data, two `ndarray` objects with random numbers are generated: one with random integers, the other with random floating-point numbers. The population of the table happens via a simple Python loop:"
   ]
  },
  {
   "cell_type": "code",
   "execution_count": 132,
   "metadata": {
    "ExecuteTime": {
     "end_time": "2020-03-04T07:28:04.558654Z",
     "start_time": "2020-03-04T07:28:04.555658Z"
    }
   },
   "outputs": [],
   "source": [
    "# A pointer object is created.\n",
    "pointer = tab.row"
   ]
  },
  {
   "cell_type": "code",
   "execution_count": 133,
   "metadata": {
    "ExecuteTime": {
     "end_time": "2020-03-04T07:28:04.625105Z",
     "start_time": "2020-03-04T07:28:04.560524Z"
    }
   },
   "outputs": [],
   "source": [
    "# The ndarray object with the random int objects is created.\n",
    "ran_int = np.random.randint(0, 10000, size=(rows, 2))"
   ]
  },
  {
   "cell_type": "code",
   "execution_count": 134,
   "metadata": {
    "ExecuteTime": {
     "end_time": "2020-03-04T07:28:04.794743Z",
     "start_time": "2020-03-04T07:28:04.626849Z"
    }
   },
   "outputs": [],
   "source": [
    "# The ndarray object with the random float objects is created.\n",
    "ran_flo = np.random.standard_normal((rows, 2)).round(4)"
   ]
  },
  {
   "cell_type": "code",
   "execution_count": 135,
   "metadata": {
    "ExecuteTime": {
     "end_time": "2020-03-04T07:28:16.109288Z",
     "start_time": "2020-03-04T07:28:04.796442Z"
    }
   },
   "outputs": [
    {
     "name": "stdout",
     "output_type": "stream",
     "text": [
      "CPU times: user 4.6 s, sys: 39.5 ms, total: 4.64 s\n",
      "Wall time: 4.64 s\n"
     ]
    }
   ],
   "source": [
    "%%time\n",
    "# The datetime object and the two int and two float objects are written\n",
    "# row-by-row.\n",
    "for i in range(rows):\n",
    "    pointer['Date'] = dt.datetime.now()\n",
    "    pointer['No1'] = ran_int[i, 0]\n",
    "    pointer['No2'] = ran_int[i, 1]\n",
    "    pointer['No3'] = ran_flo[i, 0]\n",
    "    pointer['No4'] = ran_flo[i, 1]\n",
    "    pointer.append()    # The new row is appended.\n",
    "# All written rows are flushed; i.e., committed as permanent changes.\n",
    "tab.flush()"
   ]
  },
  {
   "cell_type": "code",
   "execution_count": 136,
   "metadata": {
    "ExecuteTime": {
     "end_time": "2020-03-04T07:28:16.115141Z",
     "start_time": "2020-03-04T07:28:16.111183Z"
    }
   },
   "outputs": [
    {
     "data": {
      "text/plain": [
       "/ints_floats (Table(2000000,)) 'Integers and Floats'\n",
       "  description := {\n",
       "  \"Date\": StringCol(itemsize=26, shape=(), dflt=b'', pos=0),\n",
       "  \"No1\": Int32Col(shape=(), dflt=0, pos=1),\n",
       "  \"No2\": Int32Col(shape=(), dflt=0, pos=2),\n",
       "  \"No3\": Float64Col(shape=(), dflt=0.0, pos=3),\n",
       "  \"No4\": Float64Col(shape=(), dflt=0.0, pos=4)}\n",
       "  byteorder := 'little'\n",
       "  chunkshape := (2621,)"
      ]
     },
     "execution_count": 136,
     "metadata": {},
     "output_type": "execute_result"
    }
   ],
   "source": [
    "# The changes are reflected in the Table object description.\n",
    "tab"
   ]
  },
  {
   "cell_type": "code",
   "execution_count": 137,
   "metadata": {},
   "outputs": [
    {
     "name": "stdout",
     "output_type": "stream",
     "text": [
      "-rw-r--r-- 1 jay 100156248 3月   4 17:55 data/pytab.h5\r\n"
     ]
    }
   ],
   "source": [
    "ll $path*"
   ]
  },
  {
   "cell_type": "markdown",
   "metadata": {},
   "source": [
    "The Python loop is quite slow in this case. There is a more performant and Pythonic way to accomplish the same result, by the use of `NumPy` structured arrays. Equipped with the complete data set stored in a structured array, the creation of the table boils down to a single line of code. Note that the row description is not needed anymore; `PyTables` uses the `dtype` object of the structured array to infer the data types instead:"
   ]
  },
  {
   "cell_type": "code",
   "execution_count": 138,
   "metadata": {
    "ExecuteTime": {
     "end_time": "2020-03-04T07:28:16.120709Z",
     "start_time": "2020-03-04T07:28:16.117127Z"
    }
   },
   "outputs": [],
   "source": [
    "# This defines the special dtype object.\n",
    "dty = np.dtype([('Date', 'S26'), ('No1', '<i4'), ('No2', '<i4'),\n",
    "                ('No3', '<f8'), ('No4', '<f8')])"
   ]
  },
  {
   "cell_type": "code",
   "execution_count": 139,
   "metadata": {
    "ExecuteTime": {
     "end_time": "2020-03-04T07:28:16.125860Z",
     "start_time": "2020-03-04T07:28:16.122577Z"
    }
   },
   "outputs": [],
   "source": [
    "# This creates the structured array with zeros (and empty strings).\n",
    "sarray = np.zeros(len(ran_int), dtype=dty)"
   ]
  },
  {
   "cell_type": "code",
   "execution_count": 140,
   "metadata": {
    "ExecuteTime": {
     "end_time": "2020-03-04T07:28:16.133746Z",
     "start_time": "2020-03-04T07:28:16.127896Z"
    }
   },
   "outputs": [
    {
     "data": {
      "text/plain": [
       "array([(b'', 0, 0, 0., 0.), (b'', 0, 0, 0., 0.), (b'', 0, 0, 0., 0.),\n",
       "       (b'', 0, 0, 0., 0.)],\n",
       "      dtype=[('Date', 'S26'), ('No1', '<i4'), ('No2', '<i4'), ('No3', '<f8'), ('No4', '<f8')])"
      ]
     },
     "execution_count": 140,
     "metadata": {},
     "output_type": "execute_result"
    }
   ],
   "source": [
    "# A few records from the ndarray object.\n",
    "sarray[:4]"
   ]
  },
  {
   "cell_type": "code",
   "execution_count": 141,
   "metadata": {
    "ExecuteTime": {
     "end_time": "2020-03-04T07:28:16.273475Z",
     "start_time": "2020-03-04T07:28:16.135491Z"
    }
   },
   "outputs": [
    {
     "name": "stdout",
     "output_type": "stream",
     "text": [
      "CPU times: user 36.7 ms, sys: 16.1 ms, total: 52.8 ms\n",
      "Wall time: 52.2 ms\n"
     ]
    }
   ],
   "source": [
    "%%time\n",
    "# The columns of the ndarray object are populated at once.\n",
    "sarray['Date'] = dt.datetime.now()\n",
    "sarray['No1'] = ran_int[:, 0]\n",
    "sarray['No2'] = ran_int[:, 1]\n",
    "sarray['No3'] = ran_flo[:, 0]\n",
    "sarray['No4'] = ran_flo[:, 1]"
   ]
  },
  {
   "cell_type": "code",
   "execution_count": 142,
   "metadata": {
    "ExecuteTime": {
     "end_time": "2020-03-04T07:28:16.360728Z",
     "start_time": "2020-03-04T07:28:16.275359Z"
    }
   },
   "outputs": [
    {
     "name": "stdout",
     "output_type": "stream",
     "text": [
      "CPU times: user 12.6 ms, sys: 32 ms, total: 44.6 ms\n",
      "Wall time: 44.5 ms\n"
     ]
    },
    {
     "data": {
      "text/plain": [
       "/ints_floats_from_array (Table(2000000,)) 'Integers and Floats'\n",
       "  description := {\n",
       "  \"Date\": StringCol(itemsize=26, shape=(), dflt=b'', pos=0),\n",
       "  \"No1\": Int32Col(shape=(), dflt=0, pos=1),\n",
       "  \"No2\": Int32Col(shape=(), dflt=0, pos=2),\n",
       "  \"No3\": Float64Col(shape=(), dflt=0.0, pos=3),\n",
       "  \"No4\": Float64Col(shape=(), dflt=0.0, pos=4)}\n",
       "  byteorder := 'little'\n",
       "  chunkshape := (2621,)"
      ]
     },
     "execution_count": 142,
     "metadata": {},
     "output_type": "execute_result"
    }
   ],
   "source": [
    "%%time\n",
    "# This creates the Table object and populates it with the data.\n",
    "h5.create_table('/', 'ints_floats_from_array', sarray,\n",
    "                title='Integers and Floats',\n",
    "                expectedrows=rows, filters=filters)"
   ]
  },
  {
   "cell_type": "markdown",
   "metadata": {},
   "source": [
    "This approach is an order of magnitude faster, has more concise code, and achieves the same result:"
   ]
  },
  {
   "cell_type": "code",
   "execution_count": 143,
   "metadata": {
    "ExecuteTime": {
     "end_time": "2020-03-04T07:28:16.366887Z",
     "start_time": "2020-03-04T07:28:16.362547Z"
    }
   },
   "outputs": [
    {
     "data": {
      "text/plain": [
       "tables.file.File"
      ]
     },
     "execution_count": 143,
     "metadata": {},
     "output_type": "execute_result"
    }
   ],
   "source": [
    "type(h5)"
   ]
  },
  {
   "cell_type": "code",
   "execution_count": 144,
   "metadata": {
    "ExecuteTime": {
     "end_time": "2020-03-04T07:28:16.373093Z",
     "start_time": "2020-03-04T07:28:16.368742Z"
    }
   },
   "outputs": [
    {
     "data": {
      "text/plain": [
       "File(filename=data/pytab.h5, title='', mode='w', root_uep='/', filters=Filters(complevel=0, shuffle=False, bitshuffle=False, fletcher32=False, least_significant_digit=None))\n",
       "/ (RootGroup) ''\n",
       "/ints_floats (Table(2000000,)) 'Integers and Floats'\n",
       "  description := {\n",
       "  \"Date\": StringCol(itemsize=26, shape=(), dflt=b'', pos=0),\n",
       "  \"No1\": Int32Col(shape=(), dflt=0, pos=1),\n",
       "  \"No2\": Int32Col(shape=(), dflt=0, pos=2),\n",
       "  \"No3\": Float64Col(shape=(), dflt=0.0, pos=3),\n",
       "  \"No4\": Float64Col(shape=(), dflt=0.0, pos=4)}\n",
       "  byteorder := 'little'\n",
       "  chunkshape := (2621,)\n",
       "/ints_floats_from_array (Table(2000000,)) 'Integers and Floats'\n",
       "  description := {\n",
       "  \"Date\": StringCol(itemsize=26, shape=(), dflt=b'', pos=0),\n",
       "  \"No1\": Int32Col(shape=(), dflt=0, pos=1),\n",
       "  \"No2\": Int32Col(shape=(), dflt=0, pos=2),\n",
       "  \"No3\": Float64Col(shape=(), dflt=0.0, pos=3),\n",
       "  \"No4\": Float64Col(shape=(), dflt=0.0, pos=4)}\n",
       "  byteorder := 'little'\n",
       "  chunkshape := (2621,)"
      ]
     },
     "execution_count": 144,
     "metadata": {},
     "output_type": "execute_result"
    }
   ],
   "source": [
    "# The description of the File object with the two Table objects.\n",
    "h5"
   ]
  },
  {
   "cell_type": "code",
   "execution_count": 145,
   "metadata": {
    "ExecuteTime": {
     "end_time": "2020-03-04T07:28:16.381461Z",
     "start_time": "2020-03-04T07:28:16.375194Z"
    }
   },
   "outputs": [],
   "source": [
    "# This removes the second Table object with the redundant data.\n",
    "h5.remove_node('/', 'ints_floats_from_array')"
   ]
  },
  {
   "cell_type": "markdown",
   "metadata": {},
   "source": [
    "The Table object behaves pretty similar to NumPy structured ndarray objects in most cases:"
   ]
  },
  {
   "cell_type": "code",
   "execution_count": 146,
   "metadata": {
    "ExecuteTime": {
     "end_time": "2020-03-04T07:28:16.388714Z",
     "start_time": "2020-03-04T07:28:16.383415Z"
    }
   },
   "outputs": [
    {
     "data": {
      "text/plain": [
       "array([(b'2020-03-04 17:55:37.675291', 8576, 5991, -0.0528, 0.2468),\n",
       "       (b'2020-03-04 17:55:37.675313', 2990, 9310, -0.0261, 0.3932),\n",
       "       (b'2020-03-04 17:55:37.675316', 4400, 4823,  0.9133, 0.2579)],\n",
       "      dtype=[('Date', 'S26'), ('No1', '<i4'), ('No2', '<i4'), ('No3', '<f8'), ('No4', '<f8')])"
      ]
     },
     "execution_count": 146,
     "metadata": {},
     "output_type": "execute_result"
    }
   ],
   "source": [
    "# Selecting rows via indexing.\n",
    "tab[:3]"
   ]
  },
  {
   "cell_type": "code",
   "execution_count": 147,
   "metadata": {
    "ExecuteTime": {
     "end_time": "2020-03-04T07:28:16.395274Z",
     "start_time": "2020-03-04T07:28:16.390480Z"
    }
   },
   "outputs": [
    {
     "data": {
      "text/plain": [
       "array([ 0.2468,  0.3932,  0.2579, -0.5582])"
      ]
     },
     "execution_count": 147,
     "metadata": {},
     "output_type": "execute_result"
    }
   ],
   "source": [
    "# Selecting column values only via indexing.\n",
    "tab[:4]['No4']"
   ]
  },
  {
   "cell_type": "code",
   "execution_count": 148,
   "metadata": {
    "ExecuteTime": {
     "end_time": "2020-03-04T07:28:16.464047Z",
     "start_time": "2020-03-04T07:28:16.396966Z"
    }
   },
   "outputs": [
    {
     "name": "stdout",
     "output_type": "stream",
     "text": [
      "CPU times: user 6.23 ms, sys: 20 ms, total: 26.2 ms\n",
      "Wall time: 25.7 ms\n"
     ]
    },
    {
     "data": {
      "text/plain": [
       "88.8542999999997"
      ]
     },
     "execution_count": 148,
     "metadata": {},
     "output_type": "execute_result"
    }
   ],
   "source": [
    "# Applying NumPy universal functions.\n",
    "%time np.sum(tab[:]['No3'])"
   ]
  },
  {
   "cell_type": "code",
   "execution_count": 149,
   "metadata": {
    "ExecuteTime": {
     "end_time": "2020-03-04T07:28:16.554795Z",
     "start_time": "2020-03-04T07:28:16.465875Z"
    }
   },
   "outputs": [
    {
     "name": "stdout",
     "output_type": "stream",
     "text": [
      "CPU times: user 10.6 ms, sys: 20.1 ms, total: 30.7 ms\n",
      "Wall time: 30.1 ms\n"
     ]
    },
    {
     "data": {
      "text/plain": [
       "133349920.3689251"
      ]
     },
     "execution_count": 149,
     "metadata": {},
     "output_type": "execute_result"
    }
   ],
   "source": [
    "%time np.sum(np.sqrt(tab[:]['No1']))"
   ]
  },
  {
   "cell_type": "code",
   "execution_count": 150,
   "metadata": {
    "ExecuteTime": {
     "end_time": "2020-03-04T07:28:16.904957Z",
     "start_time": "2020-03-04T07:28:16.556595Z"
    }
   },
   "outputs": [
    {
     "name": "stdout",
     "output_type": "stream",
     "text": [
      "CPU times: user 55.1 ms, sys: 20 ms, total: 75.1 ms\n",
      "Wall time: 74.4 ms\n"
     ]
    },
    {
     "data": {
      "text/plain": [
       "(array([1.00000e+00, 0.00000e+00, 2.00000e+00, 2.00000e+01, 1.10000e+02,\n",
       "        3.80000e+02, 1.32900e+03, 4.13500e+03, 1.09250e+04, 2.58570e+04,\n",
       "        5.34720e+04, 9.70230e+04, 1.55324e+05, 2.16504e+05, 2.66456e+05,\n",
       "        2.87214e+05, 2.73180e+05, 2.26867e+05, 1.65167e+05, 1.06402e+05,\n",
       "        5.99730e+04, 2.96140e+04, 1.28280e+04, 4.93100e+03, 1.64700e+03,\n",
       "        4.64000e+02, 1.29000e+02, 4.00000e+01, 5.00000e+00, 1.00000e+00]),\n",
       " array([-5.6489 , -5.28648, -4.92406, -4.56164, -4.19922, -3.8368 ,\n",
       "        -3.47438, -3.11196, -2.74954, -2.38712, -2.0247 , -1.66228,\n",
       "        -1.29986, -0.93744, -0.57502, -0.2126 ,  0.14982,  0.51224,\n",
       "         0.87466,  1.23708,  1.5995 ,  1.96192,  2.32434,  2.68676,\n",
       "         3.04918,  3.4116 ,  3.77402,  4.13644,  4.49886,  4.86128,\n",
       "         5.2237 ]),\n",
       " <a list of 30 Patch objects>)"
      ]
     },
     "execution_count": 150,
     "metadata": {},
     "output_type": "execute_result"
    },
    {
     "data": {
      "image/png": "[encoded data removed]",
      "text/plain": [
       "<Figure size 720x432 with 1 Axes>"
      ]
     },
     "metadata": {
      "needs_background": "light"
     },
     "output_type": "display_data"
    }
   ],
   "source": [
    "%%time\n",
    "# Plotting a column from the Table object.\n",
    "plt.figure(figsize=(10, 6))\n",
    "plt.hist(tab[:]['No3'], bins=30);"
   ]
  },
  {
   "cell_type": "markdown",
   "metadata": {},
   "source": [
    "`PyTables` also provides flexible tools to query data via typical SQL-like statements, as in the following example:"
   ]
  },
  {
   "cell_type": "code",
   "execution_count": 151,
   "metadata": {
    "ExecuteTime": {
     "end_time": "2020-03-04T07:28:16.909629Z",
     "start_time": "2020-03-04T07:28:16.906782Z"
    }
   },
   "outputs": [],
   "source": [
    "# The query as a str object, four conditions combined by logical operators.\n",
    "query = '((No3 < -0.5) | (No3 > 0.5)) & ((No4 < -1) | (No4 > 1))'"
   ]
  },
  {
   "cell_type": "code",
   "execution_count": 152,
   "metadata": {
    "ExecuteTime": {
     "end_time": "2020-03-04T07:28:16.916400Z",
     "start_time": "2020-03-04T07:28:16.911656Z"
    }
   },
   "outputs": [],
   "source": [
    "# The iterator object based on the query.\n",
    "iterator = tab.where(query)"
   ]
  },
  {
   "cell_type": "code",
   "execution_count": 153,
   "metadata": {
    "ExecuteTime": {
     "end_time": "2020-03-04T07:28:17.148533Z",
     "start_time": "2020-03-04T07:28:16.918283Z"
    }
   },
   "outputs": [
    {
     "name": "stdout",
     "output_type": "stream",
     "text": [
      "CPU times: user 169 ms, sys: 17.4 ms, total: 187 ms\n",
      "Wall time: 98.8 ms\n"
     ]
    }
   ],
   "source": [
    "# The rows resulting from the query are collected via a list comprehension ...\n",
    "%time res = [(row['No3'], row['No4']) for row in iterator]"
   ]
  },
  {
   "cell_type": "code",
   "execution_count": 154,
   "metadata": {
    "ExecuteTime": {
     "end_time": "2020-03-04T07:28:17.419204Z",
     "start_time": "2020-03-04T07:28:17.150330Z"
    }
   },
   "outputs": [
    {
     "data": {
      "text/plain": [
       "array([[0.7694, 1.4866],\n",
       "       [0.9201, 1.3346],\n",
       "       [1.4701, 1.8776]])"
      ]
     },
     "execution_count": 154,
     "metadata": {},
     "output_type": "execute_result"
    }
   ],
   "source": [
    "# ... and transformed to an ndarray object.\n",
    "res = np.array(res)\n",
    "res[:3]"
   ]
  },
  {
   "cell_type": "code",
   "execution_count": 155,
   "metadata": {
    "ExecuteTime": {
     "end_time": "2020-03-04T07:28:18.516848Z",
     "start_time": "2020-03-04T07:28:17.421075Z"
    }
   },
   "outputs": [
    {
     "data": {
      "image/png": "[encoded data removed]",
      "text/plain": [
       "<Figure size 720x432 with 1 Axes>"
      ]
     },
     "metadata": {
      "needs_background": "light"
     },
     "output_type": "display_data"
    }
   ],
   "source": [
    "plt.figure(figsize=(10, 6))\n",
    "plt.plot(res.T[0], res.T[1], 'ro');"
   ]
  },
  {
   "cell_type": "markdown",
   "metadata": {},
   "source": [
    "As the following examples show, working with data stored in `PyTables` as `Table` objects gives the impression of working with `NumPy` or `pandas` objects in-memory, both from a *syntax* and a *performance* point of view:"
   ]
  },
  {
   "cell_type": "code",
   "execution_count": 156,
   "metadata": {
    "ExecuteTime": {
     "end_time": "2020-03-04T07:28:18.641753Z",
     "start_time": "2020-03-04T07:28:18.519555Z"
    }
   },
   "outputs": [
    {
     "name": "stdout",
     "output_type": "stream",
     "text": [
      "Max              5.224\n",
      "Ave              0.000\n",
      "Min             -5.649\n",
      "Std              1.000\n",
      "CPU times: user 23.5 ms, sys: 24 ms, total: 47.6 ms\n",
      "Wall time: 46 ms\n"
     ]
    }
   ],
   "source": [
    "%%time\n",
    "values = tab[:]['No3']\n",
    "print('Max %18.3f' % values.max())\n",
    "print('Ave %18.3f' % values.mean())\n",
    "print('Min %18.3f' % values.min())\n",
    "print('Std %18.3f' % values.std())"
   ]
  },
  {
   "cell_type": "code",
   "execution_count": 157,
   "metadata": {
    "ExecuteTime": {
     "end_time": "2020-03-04T07:28:18.718738Z",
     "start_time": "2020-03-04T07:28:18.643562Z"
    }
   },
   "outputs": [
    {
     "name": "stdout",
     "output_type": "stream",
     "text": [
      "CPU times: user 45 ms, sys: 25.7 ms, total: 70.7 ms\n",
      "Wall time: 31.4 ms\n"
     ]
    }
   ],
   "source": [
    "%%time\n",
    "res = [(row['No1'], row['No2']) for row in tab.where(\n",
    "    '((No1 > 9800) | (No1 < 200)) & ((No2 > 4500) & (No2 < 5500))')]"
   ]
  },
  {
   "cell_type": "code",
   "execution_count": 158,
   "metadata": {
    "ExecuteTime": {
     "end_time": "2020-03-04T07:28:18.725043Z",
     "start_time": "2020-03-04T07:28:18.720604Z"
    }
   },
   "outputs": [
    {
     "name": "stdout",
     "output_type": "stream",
     "text": [
      "(91, 4870)\n",
      "(9803, 5026)\n",
      "(9846, 4859)\n",
      "(9823, 5069)\n"
     ]
    }
   ],
   "source": [
    "for r in res[:4]: print(r)"
   ]
  },
  {
   "cell_type": "code",
   "execution_count": 159,
   "metadata": {
    "ExecuteTime": {
     "end_time": "2020-03-04T07:28:18.778098Z",
     "start_time": "2020-03-04T07:28:18.726930Z"
    }
   },
   "outputs": [
    {
     "name": "stdout",
     "output_type": "stream",
     "text": [
      "CPU times: user 31.5 ms, sys: 15.3 ms, total: 46.9 ms\n",
      "Wall time: 25.4 ms\n"
     ]
    }
   ],
   "source": [
    "%%time\n",
    "res = [(row['No1'], row['No2']) for row in tab.where('(No1 == 1234) & (No2 > 9776)')]"
   ]
  },
  {
   "cell_type": "code",
   "execution_count": 160,
   "metadata": {
    "ExecuteTime": {
     "end_time": "2020-03-04T07:28:18.783772Z",
     "start_time": "2020-03-04T07:28:18.779894Z"
    }
   },
   "outputs": [
    {
     "name": "stdout",
     "output_type": "stream",
     "text": [
      "(1234, 9841)\n",
      "(1234, 9821)\n",
      "(1234, 9867)\n",
      "(1234, 9987)\n",
      "(1234, 9849)\n",
      "(1234, 9800)\n"
     ]
    }
   ],
   "source": [
    "for r in res: print(r)"
   ]
  },
  {
   "cell_type": "markdown",
   "metadata": {},
   "source": [
    "## Working with Compressed Tables"
   ]
  },
  {
   "cell_type": "markdown",
   "metadata": {},
   "source": [
    "A major advantage of working with `PyTables` is the approach it takes to compression. It uses compression not only to save space on disk, but also to improve the performance of I/O operations in certain hardware scenarios. How\n",
    "does this work? When I/O is the bottleneck and the CPU is able to (de)compress data fast, the net effect of compression in terms of speed might be positive. Since the following examples are based on the I/O of a standard SSD, there is no speed advantage of compression to be observed. However, there is also almost no *disadvantage* to using compression:"
   ]
  },
  {
   "cell_type": "code",
   "execution_count": 161,
   "metadata": {
    "ExecuteTime": {
     "end_time": "2020-03-04T07:28:18.788491Z",
     "start_time": "2020-03-04T07:28:18.785766Z"
    }
   },
   "outputs": [],
   "source": [
    "filename = path + 'pytabc.h5'"
   ]
  },
  {
   "cell_type": "code",
   "execution_count": 162,
   "metadata": {
    "ExecuteTime": {
     "end_time": "2020-03-04T07:28:18.795526Z",
     "start_time": "2020-03-04T07:28:18.790188Z"
    }
   },
   "outputs": [],
   "source": [
    "h5c = tb.open_file(filename, 'w')"
   ]
  },
  {
   "cell_type": "code",
   "execution_count": 163,
   "metadata": {
    "ExecuteTime": {
     "end_time": "2020-03-04T07:28:18.800210Z",
     "start_time": "2020-03-04T07:28:18.797294Z"
    }
   },
   "outputs": [],
   "source": [
    "# The complevel (compression level) parameter can take values between 0\n",
    "# (no compression) and 9 (highest compression).\n",
    "filters = tb.Filters(complevel=5,\n",
    "                     complib='blosc')\n",
    "# The Blosc compression engine is used, which is optimized for performance."
   ]
  },
  {
   "cell_type": "code",
   "execution_count": 164,
   "metadata": {
    "ExecuteTime": {
     "end_time": "2020-03-04T07:28:19.100101Z",
     "start_time": "2020-03-04T07:28:18.801997Z"
    }
   },
   "outputs": [],
   "source": [
    "tabc = h5c.create_table('/', 'ints_floats', sarray,\n",
    "                        title='Integers and Floats',\n",
    "                        expectedrows=rows, filters=filters)"
   ]
  },
  {
   "cell_type": "code",
   "execution_count": 165,
   "metadata": {
    "ExecuteTime": {
     "end_time": "2020-03-04T07:28:19.164759Z",
     "start_time": "2020-03-04T07:28:19.101838Z"
    }
   },
   "outputs": [],
   "source": [
    "query = '((No3 < -0.5) | (No3 > 0.5)) & ((No4 < -1) | (No4 > 1))'"
   ]
  },
  {
   "cell_type": "code",
   "execution_count": 166,
   "metadata": {
    "ExecuteTime": {
     "end_time": "2020-03-04T07:28:19.186187Z",
     "start_time": "2020-03-04T07:28:19.166471Z"
    }
   },
   "outputs": [],
   "source": [
    "# This creates the iterator object, based on the query from before.\n",
    "iteratorc = tabc.where(query)"
   ]
  },
  {
   "cell_type": "code",
   "execution_count": 167,
   "metadata": {
    "ExecuteTime": {
     "end_time": "2020-03-04T07:28:19.437410Z",
     "start_time": "2020-03-04T07:28:19.187924Z"
    }
   },
   "outputs": [
    {
     "name": "stdout",
     "output_type": "stream",
     "text": [
      "CPU times: user 176 ms, sys: 13.9 ms, total: 190 ms\n",
      "Wall time: 111 ms\n"
     ]
    }
   ],
   "source": [
    "# The rows resulting from the query are collected via a list comprehension.\n",
    "%time res = [(row['No3'], row['No4']) for row in iteratorc]"
   ]
  },
  {
   "cell_type": "code",
   "execution_count": 168,
   "metadata": {
    "ExecuteTime": {
     "end_time": "2020-03-04T07:28:19.709404Z",
     "start_time": "2020-03-04T07:28:19.439337Z"
    }
   },
   "outputs": [
    {
     "data": {
      "text/plain": [
       "array([[0.7694, 1.4866],\n",
       "       [0.9201, 1.3346],\n",
       "       [1.4701, 1.8776]])"
      ]
     },
     "execution_count": 168,
     "metadata": {},
     "output_type": "execute_result"
    }
   ],
   "source": [
    "res = np.array(res)\n",
    "res[:3]"
   ]
  },
  {
   "cell_type": "markdown",
   "metadata": {},
   "source": [
    "Generating the compressed Table object with the original data and doing analytics on it is slightly slower compared to the uncompressed `Table` object. What about reading the data into an `ndarray` object? Let's check:"
   ]
  },
  {
   "cell_type": "code",
   "execution_count": 169,
   "metadata": {
    "ExecuteTime": {
     "end_time": "2020-03-04T07:28:19.764707Z",
     "start_time": "2020-03-04T07:28:19.711183Z"
    }
   },
   "outputs": [
    {
     "name": "stdout",
     "output_type": "stream",
     "text": [
      "CPU times: user 4.31 ms, sys: 16.1 ms, total: 20.4 ms\n",
      "Wall time: 19.9 ms\n"
     ]
    }
   ],
   "source": [
    "# Reading from the uncompressed Table object tab .\n",
    "%time arr_non = tab.read()"
   ]
  },
  {
   "cell_type": "code",
   "execution_count": 170,
   "metadata": {
    "ExecuteTime": {
     "end_time": "2020-03-04T07:28:19.771344Z",
     "start_time": "2020-03-04T07:28:19.767448Z"
    }
   },
   "outputs": [
    {
     "data": {
      "text/plain": [
       "100122200"
      ]
     },
     "execution_count": 170,
     "metadata": {},
     "output_type": "execute_result"
    }
   ],
   "source": [
    "tab.size_on_disk"
   ]
  },
  {
   "cell_type": "code",
   "execution_count": 171,
   "metadata": {
    "ExecuteTime": {
     "end_time": "2020-03-04T07:28:19.776872Z",
     "start_time": "2020-03-04T07:28:19.773247Z"
    }
   },
   "outputs": [
    {
     "data": {
      "text/plain": [
       "100000000"
      ]
     },
     "execution_count": 171,
     "metadata": {},
     "output_type": "execute_result"
    }
   ],
   "source": [
    "arr_non.nbytes"
   ]
  },
  {
   "cell_type": "code",
   "execution_count": 172,
   "metadata": {
    "ExecuteTime": {
     "end_time": "2020-03-04T07:28:19.846544Z",
     "start_time": "2020-03-04T07:28:19.778792Z"
    }
   },
   "outputs": [
    {
     "name": "stdout",
     "output_type": "stream",
     "text": [
      "CPU times: user 8.96 ms, sys: 24.2 ms, total: 33.1 ms\n",
      "Wall time: 33 ms\n"
     ]
    }
   ],
   "source": [
    "%time arr_com = tabc.read()"
   ]
  },
  {
   "cell_type": "code",
   "execution_count": 173,
   "metadata": {
    "ExecuteTime": {
     "end_time": "2020-03-04T07:28:19.852962Z",
     "start_time": "2020-03-04T07:28:19.848889Z"
    }
   },
   "outputs": [
    {
     "data": {
      "text/plain": [
       "41296966"
      ]
     },
     "execution_count": 173,
     "metadata": {},
     "output_type": "execute_result"
    }
   ],
   "source": [
    "tabc.size_on_disk"
   ]
  },
  {
   "cell_type": "code",
   "execution_count": 174,
   "metadata": {
    "ExecuteTime": {
     "end_time": "2020-03-04T07:28:19.858716Z",
     "start_time": "2020-03-04T07:28:19.854964Z"
    }
   },
   "outputs": [
    {
     "data": {
      "text/plain": [
       "100000000"
      ]
     },
     "execution_count": 174,
     "metadata": {},
     "output_type": "execute_result"
    }
   ],
   "source": [
    "arr_com.nbytes"
   ]
  },
  {
   "cell_type": "code",
   "execution_count": 175,
   "metadata": {
    "ExecuteTime": {
     "end_time": "2020-03-04T07:28:19.991056Z",
     "start_time": "2020-03-04T07:28:19.860595Z"
    }
   },
   "outputs": [
    {
     "name": "stdout",
     "output_type": "stream",
     "text": [
      "-rw-r--r-- 1 jay  41332262 3月   4 17:55 data/pytabc.h5\r\n",
      "-rw-r--r-- 1 jay 200312336 3月   4 17:55 data/pytab.h5\r\n"
     ]
    }
   ],
   "source": [
    "ll $path*    # Comparing the sizes — the size of the compressed table is significantly reduced."
   ]
  },
  {
   "cell_type": "code",
   "execution_count": 176,
   "metadata": {
    "ExecuteTime": {
     "end_time": "2020-03-04T07:28:20.000110Z",
     "start_time": "2020-03-04T07:28:19.992814Z"
    }
   },
   "outputs": [],
   "source": [
    "# Closing the database file.\n",
    "h5c.close()"
   ]
  },
  {
   "cell_type": "markdown",
   "metadata": {},
   "source": [
    "The examples show that there is hardly any speed difference when working with compressed Table objects as compared to uncompressed ones. However, file sizes on disk might - depending on the quality of the data - be significantly reduced, which has a number of benefits:"
   ]
  },
  {
   "cell_type": "markdown",
   "metadata": {},
   "source": [
    "- Storage costs are reduced.\n",
    "- Backup costs are reduced.\n",
    "- Network traffic is reduced.\n",
    "- Network speed is improved (storage on and retrieval from remote servers is faster).\n",
    "- CPU utilization is increased to overcome I/O bottlenecks."
   ]
  },
  {
   "cell_type": "markdown",
   "metadata": {},
   "source": [
    "## Working with Arrays"
   ]
  },
  {
   "cell_type": "markdown",
   "metadata": {},
   "source": [
    "\"Basic I/O with Python\" showed that `NumPy` has built-in fast writing and reading capabilities for `ndarray` objects. `PyTables` is also quite fast and efficient when it comes to storing and retrieving `ndarray` objects, and since it is based on a hierarchical database structure, many convenience features come on top:"
   ]
  },
  {
   "cell_type": "code",
   "execution_count": 177,
   "metadata": {
    "ExecuteTime": {
     "end_time": "2020-03-04T07:28:20.085731Z",
     "start_time": "2020-03-04T07:28:20.003291Z"
    }
   },
   "outputs": [
    {
     "name": "stdout",
     "output_type": "stream",
     "text": [
      "CPU times: user 0 ns, sys: 23.3 ms, total: 23.3 ms\n",
      "Wall time: 23.3 ms\n"
     ]
    }
   ],
   "source": [
    "%%time\n",
    "# Stores the ran_int ndarray object.\n",
    "arr_int = h5.create_array('/', 'integers', ran_int)\n",
    "# Stores the ran_flo ndarray object.\n",
    "arr_flo = h5.create_array('/', 'floats', ran_flo)"
   ]
  },
  {
   "cell_type": "code",
   "execution_count": 178,
   "metadata": {
    "ExecuteTime": {
     "end_time": "2020-03-04T07:28:20.129870Z",
     "start_time": "2020-03-04T07:28:20.087539Z"
    }
   },
   "outputs": [
    {
     "data": {
      "text/plain": [
       "File(filename=data/pytab.h5, title='', mode='w', root_uep='/', filters=Filters(complevel=0, shuffle=False, bitshuffle=False, fletcher32=False, least_significant_digit=None))\n",
       "/ (RootGroup) ''\n",
       "/floats (Array(2000000, 2)) ''\n",
       "  atom := Float64Atom(shape=(), dflt=0.0)\n",
       "  maindim := 0\n",
       "  flavor := 'numpy'\n",
       "  byteorder := 'little'\n",
       "  chunkshape := None\n",
       "/integers (Array(2000000, 2)) ''\n",
       "  atom := Int64Atom(shape=(), dflt=0)\n",
       "  maindim := 0\n",
       "  flavor := 'numpy'\n",
       "  byteorder := 'little'\n",
       "  chunkshape := None\n",
       "/ints_floats (Table(2000000,)) 'Integers and Floats'\n",
       "  description := {\n",
       "  \"Date\": StringCol(itemsize=26, shape=(), dflt=b'', pos=0),\n",
       "  \"No1\": Int32Col(shape=(), dflt=0, pos=1),\n",
       "  \"No2\": Int32Col(shape=(), dflt=0, pos=2),\n",
       "  \"No3\": Float64Col(shape=(), dflt=0.0, pos=3),\n",
       "  \"No4\": Float64Col(shape=(), dflt=0.0, pos=4)}\n",
       "  byteorder := 'little'\n",
       "  chunkshape := (2621,)"
      ]
     },
     "execution_count": 178,
     "metadata": {},
     "output_type": "execute_result"
    }
   ],
   "source": [
    "h5    # The changes are reflected in the object description."
   ]
  },
  {
   "cell_type": "code",
   "execution_count": 179,
   "metadata": {
    "ExecuteTime": {
     "end_time": "2020-03-04T07:28:20.329200Z",
     "start_time": "2020-03-04T07:28:20.131529Z"
    }
   },
   "outputs": [
    {
     "name": "stdout",
     "output_type": "stream",
     "text": [
      "-rw-r--r-- 1 jay  41332262 3月   4 17:55 data/pytabc.h5\r\n",
      "-rw-r--r-- 1 jay 262344490 3月   4 17:55 data/pytab.h5\r\n"
     ]
    }
   ],
   "source": [
    "ll $path*"
   ]
  },
  {
   "cell_type": "code",
   "execution_count": 180,
   "metadata": {
    "ExecuteTime": {
     "end_time": "2020-03-04T07:28:20.339434Z",
     "start_time": "2020-03-04T07:28:20.333063Z"
    }
   },
   "outputs": [],
   "source": [
    "h5.close()"
   ]
  },
  {
   "cell_type": "code",
   "execution_count": 181,
   "metadata": {
    "ExecuteTime": {
     "end_time": "2020-03-04T07:28:20.722813Z",
     "start_time": "2020-03-04T07:28:20.342749Z"
    }
   },
   "outputs": [],
   "source": [
    "!rm -f $path*"
   ]
  },
  {
   "cell_type": "markdown",
   "metadata": {},
   "source": [
    "Writing these objects directly to an HDF5 database is faster than looping over the objects and writing the data row-by-row to a Table object or using the approach via structured ndarray objects."
   ]
  },
  {
   "cell_type": "markdown",
   "metadata": {},
   "source": [
    "## Out-of-Memory Computations"
   ]
  },
  {
   "cell_type": "markdown",
   "metadata": {},
   "source": [
    "`PyTables` supports out-of-memory operations, which makes it possible to implement array-based computations that do not fit in memory. To this end, consider the following code based on the `EArray` class. This type of object can be expanded in one dimension (row-wise), while the number of columns (elements per row) needs to be fixed:"
   ]
  },
  {
   "cell_type": "code",
   "execution_count": 182,
   "metadata": {
    "ExecuteTime": {
     "end_time": "2020-03-04T07:28:20.729179Z",
     "start_time": "2020-03-04T07:28:20.726689Z"
    }
   },
   "outputs": [],
   "source": [
    "filename = path + 'earray.h5'"
   ]
  },
  {
   "cell_type": "code",
   "execution_count": 183,
   "metadata": {
    "ExecuteTime": {
     "end_time": "2020-03-04T07:28:20.737465Z",
     "start_time": "2020-03-04T07:28:20.730869Z"
    }
   },
   "outputs": [],
   "source": [
    "h5 = tb.open_file(filename, 'w')"
   ]
  },
  {
   "cell_type": "code",
   "execution_count": 184,
   "metadata": {
    "ExecuteTime": {
     "end_time": "2020-03-04T07:28:20.741948Z",
     "start_time": "2020-03-04T07:28:20.739271Z"
    }
   },
   "outputs": [],
   "source": [
    "n = 500    # The fixed number of columns."
   ]
  },
  {
   "cell_type": "code",
   "execution_count": 185,
   "metadata": {
    "ExecuteTime": {
     "end_time": "2020-03-04T07:28:20.749133Z",
     "start_time": "2020-03-04T07:28:20.743860Z"
    }
   },
   "outputs": [],
   "source": [
    "ear = h5.create_earray('/', 'ear',    # The path and technical name of the EArray object.\n",
    "                       atom=tb.Float64Atom(),    # The atomic dtype object of the single values.\n",
    "                       shape=(0, n))    # The shape for instantiation (no rows, n columns)."
   ]
  },
  {
   "cell_type": "code",
   "execution_count": 186,
   "metadata": {
    "ExecuteTime": {
     "end_time": "2020-03-04T07:28:20.755534Z",
     "start_time": "2020-03-04T07:28:20.750898Z"
    }
   },
   "outputs": [
    {
     "data": {
      "text/plain": [
       "tables.earray.EArray"
      ]
     },
     "execution_count": 186,
     "metadata": {},
     "output_type": "execute_result"
    }
   ],
   "source": [
    "type(ear)"
   ]
  },
  {
   "cell_type": "code",
   "execution_count": 187,
   "metadata": {
    "ExecuteTime": {
     "end_time": "2020-03-04T07:28:20.773106Z",
     "start_time": "2020-03-04T07:28:20.757352Z"
    }
   },
   "outputs": [
    {
     "data": {
      "text/plain": [
       "array([[-1.25983231,  1.11420699,  0.1667485 ,  0.7345676 ],\n",
       "       [-0.13785424,  1.22232417,  1.36303097,  0.13521042],\n",
       "       [ 1.45487119, -1.47784078,  0.15027672,  0.86755989],\n",
       "       [-0.63519366,  0.1516327 , -0.64939447, -0.45010975]])"
      ]
     },
     "execution_count": 187,
     "metadata": {},
     "output_type": "execute_result"
    }
   ],
   "source": [
    "# The ndarray object with the random numbers ...\n",
    "rand = np.random.standard_normal((n, n))\n",
    "rand[:4, :4]"
   ]
  },
  {
   "cell_type": "code",
   "execution_count": 188,
   "metadata": {
    "ExecuteTime": {
     "end_time": "2020-03-04T07:28:29.431732Z",
     "start_time": "2020-03-04T07:28:20.774829Z"
    }
   },
   "outputs": [
    {
     "name": "stdout",
     "output_type": "stream",
     "text": [
      "CPU times: user 187 ms, sys: 454 ms, total: 641 ms\n",
      "Wall time: 641 ms\n"
     ]
    }
   ],
   "source": [
    "%%time\n",
    "# ... that gets appended many times.\n",
    "for _ in range(750):\n",
    "    ear.append(rand)\n",
    "ear.flush()"
   ]
  },
  {
   "cell_type": "code",
   "execution_count": 189,
   "metadata": {
    "ExecuteTime": {
     "end_time": "2020-03-04T07:28:29.437108Z",
     "start_time": "2020-03-04T07:28:29.433170Z"
    }
   },
   "outputs": [
    {
     "data": {
      "text/plain": [
       "/ear (EArray(375000, 500)) ''\n",
       "  atom := Float64Atom(shape=(), dflt=0.0)\n",
       "  maindim := 0\n",
       "  flavor := 'numpy'\n",
       "  byteorder := 'little'\n",
       "  chunkshape := (16, 500)"
      ]
     },
     "execution_count": 189,
     "metadata": {},
     "output_type": "execute_result"
    }
   ],
   "source": [
    "ear"
   ]
  },
  {
   "cell_type": "code",
   "execution_count": 190,
   "metadata": {
    "ExecuteTime": {
     "end_time": "2020-03-04T07:28:29.680612Z",
     "start_time": "2020-03-04T07:28:29.438443Z"
    }
   },
   "outputs": [
    {
     "data": {
      "text/plain": [
       "1500032000"
      ]
     },
     "execution_count": 190,
     "metadata": {},
     "output_type": "execute_result"
    }
   ],
   "source": [
    "ear.size_on_disk"
   ]
  },
  {
   "cell_type": "markdown",
   "metadata": {},
   "source": [
    "For out-of-memory computations that do not lead to aggregations, another `EArray` object of the same shape (size) is needed. `PyTables` has a special module to cope with numerical expressions efficiently. It is called `Expr` and is based on the numerical expression library `numexpr`. The code that follows uses `Expr` to calculate the mathematical expression in Equation \\ref{ear-eg} on the whole `EArray` object from before.\n",
    "\n",
    "\\begin{equation}\n",
    "y  = 3 \\sin (x) + \\sqrt{\\mid x \\mid} \\label{ear-eg}\n",
    "\\end{equation}"
   ]
  },
  {
   "cell_type": "markdown",
   "metadata": {},
   "source": [
    "The results are stored in the `out` `EArray` object, and the expression evaluation happens chunk-wise:"
   ]
  },
  {
   "cell_type": "code",
   "execution_count": 191,
   "metadata": {
    "ExecuteTime": {
     "end_time": "2020-03-04T07:28:29.980324Z",
     "start_time": "2020-03-04T07:28:29.682152Z"
    }
   },
   "outputs": [],
   "source": [
    "out = h5.create_earray('/', 'out',\n",
    "                       atom=tb.Float64Atom(),\n",
    "                       shape=(0, n))"
   ]
  },
  {
   "cell_type": "code",
   "execution_count": 192,
   "metadata": {
    "ExecuteTime": {
     "end_time": "2020-03-04T07:28:30.343704Z",
     "start_time": "2020-03-04T07:28:29.981924Z"
    }
   },
   "outputs": [
    {
     "data": {
      "text/plain": [
       "0"
      ]
     },
     "execution_count": 192,
     "metadata": {},
     "output_type": "execute_result"
    }
   ],
   "source": [
    "out.size_on_disk"
   ]
  },
  {
   "cell_type": "code",
   "execution_count": 193,
   "metadata": {
    "ExecuteTime": {
     "end_time": "2020-03-04T07:28:30.646695Z",
     "start_time": "2020-03-04T07:28:30.345593Z"
    }
   },
   "outputs": [],
   "source": [
    "# Transforms a str object–based expression to an Expr object.\n",
    "expr = tb.Expr('3 * sin(ear) + sqrt(abs(ear))')"
   ]
  },
  {
   "cell_type": "code",
   "execution_count": 194,
   "metadata": {
    "ExecuteTime": {
     "end_time": "2020-03-04T07:28:30.744207Z",
     "start_time": "2020-03-04T07:28:30.648606Z"
    }
   },
   "outputs": [],
   "source": [
    "# Defines the output to be the out EArray object.\n",
    "expr.set_output(out, append_mode=True)"
   ]
  },
  {
   "cell_type": "code",
   "execution_count": 195,
   "metadata": {
    "ExecuteTime": {
     "end_time": "2020-03-04T07:28:40.649262Z",
     "start_time": "2020-03-04T07:28:30.745963Z"
    }
   },
   "outputs": [
    {
     "name": "stdout",
     "output_type": "stream",
     "text": [
      "CPU times: user 1.58 s, sys: 634 ms, total: 2.21 s\n",
      "Wall time: 1.12 s\n"
     ]
    },
    {
     "data": {
      "text/plain": [
       "/out (EArray(375000, 500)) ''\n",
       "  atom := Float64Atom(shape=(), dflt=0.0)\n",
       "  maindim := 0\n",
       "  flavor := 'numpy'\n",
       "  byteorder := 'little'\n",
       "  chunkshape := (16, 500)"
      ]
     },
     "execution_count": 195,
     "metadata": {},
     "output_type": "execute_result"
    }
   ],
   "source": [
    "%time expr.eval()    # Initiates the evaluation of the expression."
   ]
  },
  {
   "cell_type": "code",
   "execution_count": 196,
   "metadata": {
    "ExecuteTime": {
     "end_time": "2020-03-04T07:28:40.674606Z",
     "start_time": "2020-03-04T07:28:40.650950Z"
    }
   },
   "outputs": [
    {
     "data": {
      "text/plain": [
       "1500032000"
      ]
     },
     "execution_count": 196,
     "metadata": {},
     "output_type": "execute_result"
    }
   ],
   "source": [
    "out.size_on_disk"
   ]
  },
  {
   "cell_type": "code",
   "execution_count": 197,
   "metadata": {
    "ExecuteTime": {
     "end_time": "2020-03-04T07:28:40.996751Z",
     "start_time": "2020-03-04T07:28:40.676436Z"
    }
   },
   "outputs": [
    {
     "data": {
      "text/plain": [
       "array([-1.73369462,  3.74824436,  0.90627898,  2.86786818,  1.75424957,\n",
       "       -0.91108973, -1.68313885,  1.29073295, -1.68665599, -1.71345309])"
      ]
     },
     "execution_count": 197,
     "metadata": {},
     "output_type": "execute_result"
    }
   ],
   "source": [
    "out[0, :10]"
   ]
  },
  {
   "cell_type": "code",
   "execution_count": 198,
   "metadata": {
    "ExecuteTime": {
     "end_time": "2020-03-04T07:28:58.463589Z",
     "start_time": "2020-03-04T07:28:40.998358Z"
    }
   },
   "outputs": [
    {
     "name": "stdout",
     "output_type": "stream",
     "text": [
      "CPU times: user 121 ms, sys: 222 ms, total: 343 ms\n",
      "Wall time: 342 ms\n"
     ]
    }
   ],
   "source": [
    "%time out_ = out.read()    # Reads the whole EArray into memory."
   ]
  },
  {
   "cell_type": "code",
   "execution_count": 199,
   "metadata": {
    "ExecuteTime": {
     "end_time": "2020-03-04T07:28:58.497077Z",
     "start_time": "2020-03-04T07:28:58.470200Z"
    }
   },
   "outputs": [
    {
     "data": {
      "text/plain": [
       "array([-1.73369462,  3.74824436,  0.90627898,  2.86786818,  1.75424957,\n",
       "       -0.91108973, -1.68313885,  1.29073295, -1.68665599, -1.71345309])"
      ]
     },
     "execution_count": 199,
     "metadata": {},
     "output_type": "execute_result"
    }
   ],
   "source": [
    "out_[0, :10]"
   ]
  },
  {
   "cell_type": "markdown",
   "metadata": {},
   "source": [
    "Given that the whole operation takes place out-of-memory, it can be considered quite fast, in particular as it is executed on standard hardware. As a benchmark, the in-memory performance of the `numexpr` module (see also Chapter 10) can be considered. It is faster, but not by a huge margin:"
   ]
  },
  {
   "cell_type": "code",
   "execution_count": 200,
   "metadata": {
    "ExecuteTime": {
     "end_time": "2020-03-04T07:32:25.245444Z",
     "start_time": "2020-03-04T07:32:25.242925Z"
    }
   },
   "outputs": [],
   "source": [
    "# Imports the module for in-memory evaluations of numerical expressions.\n",
    "import numexpr as ne"
   ]
  },
  {
   "cell_type": "code",
   "execution_count": 201,
   "metadata": {
    "ExecuteTime": {
     "end_time": "2020-03-04T07:32:53.128427Z",
     "start_time": "2020-03-04T07:32:53.124525Z"
    }
   },
   "outputs": [],
   "source": [
    "# The numerical expression as a str object.\n",
    "expr = '3 * sin(out_) + sqrt(abs(out_))'"
   ]
  },
  {
   "cell_type": "code",
   "execution_count": 202,
   "metadata": {
    "ExecuteTime": {
     "end_time": "2020-03-04T07:33:58.951964Z",
     "start_time": "2020-03-04T07:33:58.940876Z"
    }
   },
   "outputs": [
    {
     "data": {
      "text/plain": [
       "8"
      ]
     },
     "execution_count": 202,
     "metadata": {},
     "output_type": "execute_result"
    }
   ],
   "source": [
    "# Sets the number of threads to one.\n",
    "ne.set_num_threads(1)"
   ]
  },
  {
   "cell_type": "code",
   "execution_count": 203,
   "metadata": {
    "ExecuteTime": {
     "end_time": "2020-03-04T07:35:38.614715Z",
     "start_time": "2020-03-04T07:35:38.358530Z"
    }
   },
   "outputs": [
    {
     "name": "stdout",
     "output_type": "stream",
     "text": [
      "CPU times: user 634 ms, sys: 101 ms, total: 734 ms\n",
      "Wall time: 734 ms\n"
     ]
    },
    {
     "data": {
      "text/plain": [
       "array([-1.64358578,  0.22567882,  3.31363043,  2.50443549,  4.27413965,\n",
       "       -1.41600606, -1.68373023,  4.01921805, -1.68117412, -1.66053597])"
      ]
     },
     "execution_count": 203,
     "metadata": {},
     "output_type": "execute_result"
    }
   ],
   "source": [
    "# Evaluates the numerical expression in-memory with one thread.\n",
    "%time ne.evaluate(expr)[0, :10]"
   ]
  },
  {
   "cell_type": "code",
   "execution_count": 204,
   "metadata": {},
   "outputs": [
    {
     "data": {
      "text/plain": [
       "1"
      ]
     },
     "execution_count": 204,
     "metadata": {},
     "output_type": "execute_result"
    }
   ],
   "source": [
    "# Sets the number of threads to four.\n",
    "ne.set_num_threads(4)"
   ]
  },
  {
   "cell_type": "code",
   "execution_count": 205,
   "metadata": {},
   "outputs": [
    {
     "name": "stdout",
     "output_type": "stream",
     "text": [
      "CPU times: user 692 ms, sys: 108 ms, total: 801 ms\n",
      "Wall time: 202 ms\n"
     ]
    },
    {
     "data": {
      "text/plain": [
       "array([-1.64358578,  0.22567882,  3.31363043,  2.50443549,  4.27413965,\n",
       "       -1.41600606, -1.68373023,  4.01921805, -1.68117412, -1.66053597])"
      ]
     },
     "execution_count": 205,
     "metadata": {},
     "output_type": "execute_result"
    }
   ],
   "source": [
    "# Evaluates the numerical expression in-memory with four threads.\n",
    "%time ne.evaluate(expr)[0, :10]"
   ]
  },
  {
   "cell_type": "code",
   "execution_count": 23,
   "metadata": {
    "ExecuteTime": {
     "end_time": "2020-03-04T23:24:04.623267Z",
     "start_time": "2020-03-04T23:24:04.620120Z"
    }
   },
   "outputs": [],
   "source": [
    "h5.close()"
   ]
  },
  {
   "cell_type": "code",
   "execution_count": 72,
   "metadata": {
    "ExecuteTime": {
     "end_time": "2020-03-04T23:53:29.895255Z",
     "start_time": "2020-03-04T23:53:29.754846Z"
    }
   },
   "outputs": [],
   "source": [
    "!rm -f $path*"
   ]
  },
  {
   "cell_type": "markdown",
   "metadata": {},
   "source": [
    "# I/O with TsTables"
   ]
  },
  {
   "cell_type": "markdown",
   "metadata": {},
   "source": [
    "The package `TsTables` uses `PyTables` to build a high-performance storage for time series data. The major usage scenario is \"write once, retrieve multiple times.\" This is a typical scenario in financial analytics, where data is created in the markets, retrieved in real-time or asynchronously, and stored on disk for later usage. That usage might be in a larger trading strategy backtesting program that requires different subsets of a historical financial time series over and over again. It is then important that data retrieval happens fast."
   ]
  },
  {
   "cell_type": "markdown",
   "metadata": {},
   "source": [
    "## Sample Data"
   ]
  },
  {
   "cell_type": "markdown",
   "metadata": {},
   "source": [
    "As usual, the first task is the generation of a sample data set that is large enough to illustrate the benefits of TsTables . The following code generates three rather long financial time series based on the simulation of a geometric Brownian motion (see Chapter 12):"
   ]
  },
  {
   "cell_type": "code",
   "execution_count": 12,
   "metadata": {
    "ExecuteTime": {
     "end_time": "2020-03-04T23:23:33.440358Z",
     "start_time": "2020-03-04T23:23:33.434785Z"
    }
   },
   "outputs": [],
   "source": [
    "no = 5000000    # The number of time steps.\n",
    "co = 3    # The number of time series.\n",
    "interval = 1. / (12 * 30 * 24 * 60)    # The time interval as a year fraction.\n",
    "vol = .2    # The volatility."
   ]
  },
  {
   "cell_type": "code",
   "execution_count": 13,
   "metadata": {
    "ExecuteTime": {
     "end_time": "2020-03-04T23:23:35.258532Z",
     "start_time": "2020-03-04T23:23:34.281547Z"
    }
   },
   "outputs": [
    {
     "name": "stdout",
     "output_type": "stream",
     "text": [
      "CPU times: user 869 ms, sys: 105 ms, total: 973 ms\n",
      "Wall time: 972 ms\n"
     ]
    }
   ],
   "source": [
    "%%time\n",
    "# Standard normally distributed random numbers.\n",
    "rn = np.random.standard_normal((no, co))\n",
    "# Sets the initial random numbers to zero.\n",
    "rn[0] = 0.0\n",
    "# The simulation based on an Euler discretization.\n",
    "paths = 100 * np.exp(np.cumsum(-0.5 * vol ** 2 * interval +\n",
    "                               vol * np.sqrt(interval) * rn, axis=0))\n",
    "paths[0] = 100    # Sets the initial values of the paths to 100."
   ]
  },
  {
   "cell_type": "markdown",
   "metadata": {},
   "source": [
    "Since `TsTables` works pretty well with `pandas` `DataFrame` objects, the data is transformed to such an object:"
   ]
  },
  {
   "cell_type": "code",
   "execution_count": 14,
   "metadata": {
    "ExecuteTime": {
     "end_time": "2020-03-04T23:23:39.935444Z",
     "start_time": "2020-03-04T23:23:39.916610Z"
    }
   },
   "outputs": [],
   "source": [
    "dr = pd.date_range('2019-1-1', periods=no, freq='1s')"
   ]
  },
  {
   "cell_type": "code",
   "execution_count": 15,
   "metadata": {
    "ExecuteTime": {
     "end_time": "2020-03-04T23:23:41.080249Z",
     "start_time": "2020-03-04T23:23:41.074056Z"
    }
   },
   "outputs": [
    {
     "data": {
      "text/plain": [
       "DatetimeIndex(['2019-02-27 20:53:14', '2019-02-27 20:53:15',\n",
       "               '2019-02-27 20:53:16', '2019-02-27 20:53:17',\n",
       "               '2019-02-27 20:53:18', '2019-02-27 20:53:19'],\n",
       "              dtype='datetime64[ns]', freq='S')"
      ]
     },
     "execution_count": 15,
     "metadata": {},
     "output_type": "execute_result"
    }
   ],
   "source": [
    "dr[-6:]"
   ]
  },
  {
   "cell_type": "code",
   "execution_count": 16,
   "metadata": {
    "ExecuteTime": {
     "end_time": "2020-03-04T23:23:42.437027Z",
     "start_time": "2020-03-04T23:23:42.433584Z"
    }
   },
   "outputs": [],
   "source": [
    "df = pd.DataFrame(paths, index=dr, columns=['ts1', 'ts2', 'ts3'])"
   ]
  },
  {
   "cell_type": "code",
   "execution_count": 17,
   "metadata": {
    "ExecuteTime": {
     "end_time": "2020-03-04T23:23:44.136813Z",
     "start_time": "2020-03-04T23:23:44.054732Z"
    }
   },
   "outputs": [
    {
     "name": "stdout",
     "output_type": "stream",
     "text": [
      "<class 'pandas.core.frame.DataFrame'>\n",
      "DatetimeIndex: 5000000 entries, 2019-01-01 00:00:00 to 2019-02-27 20:53:19\n",
      "Freq: S\n",
      "Data columns (total 3 columns):\n",
      "ts1    float64\n",
      "ts2    float64\n",
      "ts3    float64\n",
      "dtypes: float64(3)\n",
      "memory usage: 152.6 MB\n"
     ]
    }
   ],
   "source": [
    "df.info()"
   ]
  },
  {
   "cell_type": "code",
   "execution_count": 18,
   "metadata": {
    "ExecuteTime": {
     "end_time": "2020-03-04T23:23:45.102500Z",
     "start_time": "2020-03-04T23:23:45.091482Z"
    }
   },
   "outputs": [
    {
     "data": {
      "text/html": [
       "<div>\n",
       "<style scoped>\n",
       "    .dataframe tbody tr th:only-of-type {\n",
       "        vertical-align: middle;\n",
       "    }\n",
       "\n",
       "    .dataframe tbody tr th {\n",
       "        vertical-align: top;\n",
       "    }\n",
       "\n",
       "    .dataframe thead th {\n",
       "        text-align: right;\n",
       "    }\n",
       "</style>\n",
       "<table border=\"1\" class=\"dataframe\">\n",
       "  <thead>\n",
       "    <tr style=\"text-align: right;\">\n",
       "      <th></th>\n",
       "      <th>ts1</th>\n",
       "      <th>ts2</th>\n",
       "      <th>ts3</th>\n",
       "    </tr>\n",
       "  </thead>\n",
       "  <tbody>\n",
       "    <tr>\n",
       "      <th>2019-01-01 00:00:00</th>\n",
       "      <td>100.000000</td>\n",
       "      <td>100.000000</td>\n",
       "      <td>100.000000</td>\n",
       "    </tr>\n",
       "    <tr>\n",
       "      <th>2019-01-01 00:00:01</th>\n",
       "      <td>99.982009</td>\n",
       "      <td>100.049539</td>\n",
       "      <td>100.001004</td>\n",
       "    </tr>\n",
       "    <tr>\n",
       "      <th>2019-01-01 00:00:02</th>\n",
       "      <td>99.949375</td>\n",
       "      <td>100.046164</td>\n",
       "      <td>100.004455</td>\n",
       "    </tr>\n",
       "    <tr>\n",
       "      <th>2019-01-01 00:00:03</th>\n",
       "      <td>99.963095</td>\n",
       "      <td>100.044310</td>\n",
       "      <td>100.024601</td>\n",
       "    </tr>\n",
       "    <tr>\n",
       "      <th>2019-01-01 00:00:04</th>\n",
       "      <td>99.962232</td>\n",
       "      <td>100.060098</td>\n",
       "      <td>100.061264</td>\n",
       "    </tr>\n",
       "  </tbody>\n",
       "</table>\n",
       "</div>"
      ],
      "text/plain": [
       "                            ts1         ts2         ts3\n",
       "2019-01-01 00:00:00  100.000000  100.000000  100.000000\n",
       "2019-01-01 00:00:01   99.982009  100.049539  100.001004\n",
       "2019-01-01 00:00:02   99.949375  100.046164  100.004455\n",
       "2019-01-01 00:00:03   99.963095  100.044310  100.024601\n",
       "2019-01-01 00:00:04   99.962232  100.060098  100.061264"
      ]
     },
     "execution_count": 18,
     "metadata": {},
     "output_type": "execute_result"
    }
   ],
   "source": [
    "df.head()"
   ]
  },
  {
   "cell_type": "code",
   "execution_count": 19,
   "metadata": {
    "ExecuteTime": {
     "end_time": "2020-03-04T23:23:52.495344Z",
     "start_time": "2020-03-04T23:23:46.018472Z"
    }
   },
   "outputs": [
    {
     "data": {
      "image/png": "[encoded data removed]",
      "text/plain": [
       "<Figure size 720x432 with 1 Axes>"
      ]
     },
     "metadata": {
      "needs_background": "light"
     },
     "output_type": "display_data"
    }
   ],
   "source": [
    "df[::100000].plot(figsize=(10, 6));"
   ]
  },
  {
   "cell_type": "markdown",
   "metadata": {},
   "source": [
    "## Data Storage"
   ]
  },
  {
   "cell_type": "markdown",
   "metadata": {},
   "source": [
    "`TsTables` stores financial time series data based on a specific chunk-based structure that allows for fast retrieval of arbitrary data subsets defined by some time interval. To this end, the package adds the function `create_ts()` to `PyTables`. To provide the data types for the table columns, the following uses a method based on the `tb.IsDe⁠scription` class from `PyTables`:"
   ]
  },
  {
   "cell_type": "code",
   "execution_count": 52,
   "metadata": {
    "ExecuteTime": {
     "end_time": "2020-03-04T23:35:55.917673Z",
     "start_time": "2020-03-04T23:35:55.913418Z"
    }
   },
   "outputs": [],
   "source": [
    "import tstables as tstab"
   ]
  },
  {
   "cell_type": "code",
   "execution_count": 53,
   "metadata": {
    "ExecuteTime": {
     "end_time": "2020-03-04T23:35:56.574712Z",
     "start_time": "2020-03-04T23:35:56.568388Z"
    }
   },
   "outputs": [],
   "source": [
    "class ts_desc(tb.IsDescription):\n",
    "    timestamp = tb.Int64Col(pos=0)    # The column for the timestamps.\n",
    "    ts1 = tb.Float64Col(pos=1)    # The columns to store the numerical data.\n",
    "    ts2 = tb.Float64Col(pos=2)\n",
    "    ts3 = tb.Float64Col(pos=3)"
   ]
  },
  {
   "cell_type": "code",
   "execution_count": 54,
   "metadata": {
    "ExecuteTime": {
     "end_time": "2020-03-04T23:35:57.186210Z",
     "start_time": "2020-03-04T23:35:57.182150Z"
    }
   },
   "outputs": [],
   "source": [
    "h5 = tb.open_file(path + 'tstab.h5', 'w')    # Opens an HDF5 database file for writing ( w )."
   ]
  },
  {
   "cell_type": "code",
   "execution_count": 55,
   "metadata": {
    "ExecuteTime": {
     "end_time": "2020-03-04T23:35:58.049655Z",
     "start_time": "2020-03-04T23:35:58.041868Z"
    }
   },
   "outputs": [],
   "source": [
    "ts = h5.create_ts('/', 'ts', ts_desc)    # Creates the TsTable object based on the ts_desc object."
   ]
  },
  {
   "cell_type": "code",
   "execution_count": 56,
   "metadata": {
    "ExecuteTime": {
     "end_time": "2020-03-04T23:35:59.496292Z",
     "start_time": "2020-03-04T23:35:58.888279Z"
    }
   },
   "outputs": [
    {
     "name": "stdout",
     "output_type": "stream",
     "text": [
      "CPU times: user 402 ms, sys: 203 ms, total: 605 ms\n",
      "Wall time: 604 ms\n"
     ]
    }
   ],
   "source": [
    "%time ts.append(df)    # Appends the data from the DataFrame object to the TsTable object."
   ]
  },
  {
   "cell_type": "code",
   "execution_count": 57,
   "metadata": {
    "ExecuteTime": {
     "end_time": "2020-03-04T23:36:00.725252Z",
     "start_time": "2020-03-04T23:36:00.721810Z"
    }
   },
   "outputs": [
    {
     "data": {
      "text/plain": [
       "tstables.tstable.TsTable"
      ]
     },
     "execution_count": 57,
     "metadata": {},
     "output_type": "execute_result"
    }
   ],
   "source": [
    "type(ts)"
   ]
  },
  {
   "cell_type": "code",
   "execution_count": 58,
   "metadata": {
    "ExecuteTime": {
     "end_time": "2020-03-04T23:36:01.734526Z",
     "start_time": "2020-03-04T23:36:01.612587Z"
    }
   },
   "outputs": [
    {
     "name": "stdout",
     "output_type": "stream",
     "text": [
      "total 312864\r\n",
      "-rw-rw-r-- 1 1000 1000 157037368 Mar  4 23:35 tstab.h5\r\n",
      "-rw-rw-r-- 1 1000 1000 163328824 Mar  4 23:34 tstabl.h5\r\n"
     ]
    }
   ],
   "source": [
    "ls -n $path"
   ]
  },
  {
   "cell_type": "markdown",
   "metadata": {},
   "source": [
    "## Data Retrieval"
   ]
  },
  {
   "cell_type": "markdown",
   "metadata": {},
   "source": [
    "Writing data with `TsTables` obviously is quite fast, even if hardware-dependent. The same holds true for reading chunks of the data back into memory. Conveniently, `TsTables` returns a `DataFrame` object:"
   ]
  },
  {
   "cell_type": "code",
   "execution_count": 59,
   "metadata": {
    "ExecuteTime": {
     "end_time": "2020-03-04T23:36:03.069580Z",
     "start_time": "2020-03-04T23:36:03.065841Z"
    }
   },
   "outputs": [],
   "source": [
    "# The start time of the interval.\n",
    "read_start_dt = dt.datetime(2019, 2, 1, 0, 0)\n",
    "# The end time of the interval.\n",
    "read_end_dt = dt.datetime(2019, 2, 5, 23, 59)"
   ]
  },
  {
   "cell_type": "code",
   "execution_count": 60,
   "metadata": {
    "ExecuteTime": {
     "end_time": "2020-03-04T23:36:04.685869Z",
     "start_time": "2020-03-04T23:36:04.603586Z"
    }
   },
   "outputs": [
    {
     "name": "stdout",
     "output_type": "stream",
     "text": [
      "CPU times: user 54.8 ms, sys: 24.2 ms, total: 79 ms\n",
      "Wall time: 78.3 ms\n"
     ]
    }
   ],
   "source": [
    "# The function ts.read_range() returns a DataFrame object for the interval.\n",
    "%time rows = ts.read_range(read_start_dt, read_end_dt)"
   ]
  },
  {
   "cell_type": "code",
   "execution_count": 61,
   "metadata": {
    "ExecuteTime": {
     "end_time": "2020-03-04T23:36:05.836185Z",
     "start_time": "2020-03-04T23:36:05.819472Z"
    }
   },
   "outputs": [
    {
     "name": "stdout",
     "output_type": "stream",
     "text": [
      "<class 'pandas.core.frame.DataFrame'>\n",
      "DatetimeIndex: 431941 entries, 2019-02-01 00:00:00 to 2019-02-05 23:59:00\n",
      "Data columns (total 3 columns):\n",
      "ts1    431941 non-null float64\n",
      "ts2    431941 non-null float64\n",
      "ts3    431941 non-null float64\n",
      "dtypes: float64(3)\n",
      "memory usage: 13.2 MB\n"
     ]
    }
   ],
   "source": [
    "# The DataFrame object has a few hundred thousand data rows.\n",
    "rows.info()"
   ]
  },
  {
   "cell_type": "code",
   "execution_count": 62,
   "metadata": {
    "ExecuteTime": {
     "end_time": "2020-03-04T23:36:06.776345Z",
     "start_time": "2020-03-04T23:36:06.767113Z"
    }
   },
   "outputs": [
    {
     "data": {
      "text/html": [
       "<div>\n",
       "<style scoped>\n",
       "    .dataframe tbody tr th:only-of-type {\n",
       "        vertical-align: middle;\n",
       "    }\n",
       "\n",
       "    .dataframe tbody tr th {\n",
       "        vertical-align: top;\n",
       "    }\n",
       "\n",
       "    .dataframe thead th {\n",
       "        text-align: right;\n",
       "    }\n",
       "</style>\n",
       "<table border=\"1\" class=\"dataframe\">\n",
       "  <thead>\n",
       "    <tr style=\"text-align: right;\">\n",
       "      <th></th>\n",
       "      <th>ts1</th>\n",
       "      <th>ts2</th>\n",
       "      <th>ts3</th>\n",
       "    </tr>\n",
       "  </thead>\n",
       "  <tbody>\n",
       "    <tr>\n",
       "      <th>2019-02-01 00:00:00</th>\n",
       "      <td>101.960394</td>\n",
       "      <td>106.307743</td>\n",
       "      <td>133.423421</td>\n",
       "    </tr>\n",
       "    <tr>\n",
       "      <th>2019-02-01 00:00:01</th>\n",
       "      <td>102.006088</td>\n",
       "      <td>106.315378</td>\n",
       "      <td>133.402477</td>\n",
       "    </tr>\n",
       "    <tr>\n",
       "      <th>2019-02-01 00:00:02</th>\n",
       "      <td>101.962886</td>\n",
       "      <td>106.350633</td>\n",
       "      <td>133.361991</td>\n",
       "    </tr>\n",
       "    <tr>\n",
       "      <th>2019-02-01 00:00:03</th>\n",
       "      <td>102.019714</td>\n",
       "      <td>106.409828</td>\n",
       "      <td>133.361396</td>\n",
       "    </tr>\n",
       "    <tr>\n",
       "      <th>2019-02-01 00:00:04</th>\n",
       "      <td>102.022671</td>\n",
       "      <td>106.426820</td>\n",
       "      <td>133.401836</td>\n",
       "    </tr>\n",
       "  </tbody>\n",
       "</table>\n",
       "</div>"
      ],
      "text/plain": [
       "                            ts1         ts2         ts3\n",
       "2019-02-01 00:00:00  101.960394  106.307743  133.423421\n",
       "2019-02-01 00:00:01  102.006088  106.315378  133.402477\n",
       "2019-02-01 00:00:02  101.962886  106.350633  133.361991\n",
       "2019-02-01 00:00:03  102.019714  106.409828  133.361396\n",
       "2019-02-01 00:00:04  102.022671  106.426820  133.401836"
      ]
     },
     "execution_count": 62,
     "metadata": {},
     "output_type": "execute_result"
    }
   ],
   "source": [
    "rows.head()"
   ]
  },
  {
   "cell_type": "code",
   "execution_count": 63,
   "metadata": {
    "ExecuteTime": {
     "end_time": "2020-03-04T23:36:07.684721Z",
     "start_time": "2020-03-04T23:36:07.672646Z"
    }
   },
   "outputs": [],
   "source": [
    "h5.close()"
   ]
  },
  {
   "cell_type": "code",
   "execution_count": 64,
   "metadata": {
    "ExecuteTime": {
     "end_time": "2020-03-04T23:36:08.903190Z",
     "start_time": "2020-03-04T23:36:08.372888Z"
    }
   },
   "outputs": [
    {
     "data": {
      "image/png": "[encoded data removed]",
      "text/plain": [
       "<Figure size 720x432 with 1 Axes>"
      ]
     },
     "metadata": {
      "needs_background": "light"
     },
     "output_type": "display_data"
    }
   ],
   "source": [
    "(rows[::500] / rows.iloc[0]).plot(figsize=(10, 6));"
   ]
  },
  {
   "cell_type": "markdown",
   "metadata": {},
   "source": [
    "To better illustrate the performance of the `TsTables`-based data retrieval, consider the following benchmark, which retrieves 100 chunks of data consisting of 3 days' worth of 1-second bars. The retrieval of a `DataFrame` with 345,600 rows of data takes less than one-tenth of a second:"
   ]
  },
  {
   "cell_type": "code",
   "execution_count": 65,
   "metadata": {
    "ExecuteTime": {
     "end_time": "2020-03-04T23:36:10.048676Z",
     "start_time": "2020-03-04T23:36:10.046048Z"
    }
   },
   "outputs": [],
   "source": [
    "import random"
   ]
  },
  {
   "cell_type": "code",
   "execution_count": 66,
   "metadata": {
    "ExecuteTime": {
     "end_time": "2020-03-04T23:36:11.440894Z",
     "start_time": "2020-03-04T23:36:11.436941Z"
    }
   },
   "outputs": [],
   "source": [
    "h5 = tb.open_file(path + 'tstab.h5', 'r')"
   ]
  },
  {
   "cell_type": "code",
   "execution_count": 68,
   "metadata": {
    "ExecuteTime": {
     "end_time": "2020-03-04T23:38:33.572669Z",
     "start_time": "2020-03-04T23:38:33.569285Z"
    }
   },
   "outputs": [],
   "source": [
    "# This connects to the TsTable object.\n",
    "ts = h5.root.ts._f_get_timeseries()"
   ]
  },
  {
   "cell_type": "code",
   "execution_count": 69,
   "metadata": {
    "ExecuteTime": {
     "end_time": "2020-03-04T23:40:22.797417Z",
     "start_time": "2020-03-04T23:40:18.310670Z"
    }
   },
   "outputs": [
    {
     "name": "stdout",
     "output_type": "stream",
     "text": [
      "CPU times: user 3.98 s, sys: 507 ms, total: 4.48 s\n",
      "Wall time: 4.48 s\n"
     ]
    }
   ],
   "source": [
    "%%time\n",
    "# The data retrieval is repeated many times.\n",
    "for _ in range(100):\n",
    "    # The starting day value is randomized.\n",
    "    d = random.randint(1, 24)\n",
    "    read_start_dt = dt.datetime(2019, 2, d, 0, 0, 0)\n",
    "    read_end_dt = dt.datetime(2019, 2, d + 3, 23, 59, 59)\n",
    "    rows = ts.read_range(read_start_dt, read_end_dt)"
   ]
  },
  {
   "cell_type": "code",
   "execution_count": 70,
   "metadata": {
    "ExecuteTime": {
     "end_time": "2020-03-04T23:40:41.460426Z",
     "start_time": "2020-03-04T23:40:41.447186Z"
    }
   },
   "outputs": [
    {
     "name": "stdout",
     "output_type": "stream",
     "text": [
      "<class 'pandas.core.frame.DataFrame'>\n",
      "DatetimeIndex: 345600 entries, 2019-02-22 00:00:00 to 2019-02-25 23:59:59\n",
      "Data columns (total 3 columns):\n",
      "ts1    345600 non-null float64\n",
      "ts2    345600 non-null float64\n",
      "ts3    345600 non-null float64\n",
      "dtypes: float64(3)\n",
      "memory usage: 10.5 MB\n"
     ]
    }
   ],
   "source": [
    "rows.info()    # The last DataFrame object is retrieved."
   ]
  },
  {
   "cell_type": "code",
   "execution_count": 71,
   "metadata": {
    "ExecuteTime": {
     "end_time": "2020-03-04T23:41:30.809517Z",
     "start_time": "2020-03-04T23:41:30.687811Z"
    }
   },
   "outputs": [],
   "source": [
    "!rm $path/tstab.h5"
   ]
  },
  {
   "cell_type": "markdown",
   "metadata": {},
   "source": [
    "# Conclusion"
   ]
  },
  {
   "cell_type": "markdown",
   "metadata": {},
   "source": [
    "SQL-based or relational databases have advantages when it comes to complex data structures that exhibit lots of relations between single objects/tables. This might justify in some circumstances their performance disadvantage over pure `NumPy` `ndarray`-based or `pandas` `DataFrame`–based approaches."
   ]
  },
  {
   "cell_type": "markdown",
   "metadata": {},
   "source": [
    "Many application areas in finance or science in general can succeed with a mainly array-based data modeling approach. In these cases, huge performance improvements can be realized by making use of native `NumPy` I/O capabilities, a combination of `NumPy` and `PyTables` capabilities, or the pandas approach via HDF5-based stores. `TsTables` is particularly useful when working with large (financial) time series data sets, especially in \"write once, retrieve multiple times\" scenarios."
   ]
  },
  {
   "cell_type": "markdown",
   "metadata": {},
   "source": [
    "While a recent trend has been to use cloud-based solutions - where the cloud is made up of a large number of computing nodes based on commodity hardware - one should carefully consider, especially in a financial context, which hardware architecture best serves the analytics requirements. A study by Microsoft sheds some light on this topic:\n",
    "> We claim that a single \"scale-up\" server can process each of these jobs and do as well or better than a cluster in terms of performance, cost, power, and server density.\n",
    ">\n",
    "> Appuswamy et al. (2013)"
   ]
  },
  {
   "cell_type": "markdown",
   "metadata": {},
   "source": [
    "Companies, research institutions, and others involved in data analytics should therefore analyze first what specific tasks have to be accomplished in general and then decide on the hardware/software architecture, in terms of:\n",
    "\n",
    "- *Scaling out*: \n",
    "    Using a cluster with many commodity nodes with standard CPUs and relatively low memory\n",
    "- *Scaling up*: \n",
    "    Using one or a few powerful servers with many-core CPUs, possibly also GPUs or even TPUs when machine and deep learning play a role, and large amounts of memory"
   ]
  },
  {
   "cell_type": "markdown",
   "metadata": {},
   "source": [
    "Scaling up hardware and applying appropriate implementation approaches might significantly influence performance, which is the focus of the next chapter."
   ]
  }
 ],
 "metadata": {
  "hide_input": false,
  "kernelspec": {
   "display_name": "Python 3",
   "language": "python",
   "name": "python3"
  },
  "language_info": {
   "codemirror_mode": {
    "name": "ipython",
    "version": 3
   },
   "file_extension": ".py",
   "mimetype": "text/x-python",
   "name": "python",
   "nbconvert_exporter": "python",
   "pygments_lexer": "ipython3",
   "version": "3.7.4"
  },
  "toc": {
   "base_numbering": 1,
   "nav_menu": {},
   "number_sections": true,
   "sideBar": true,
   "skip_h1_title": false,
   "title_cell": "Table of Contents",
   "title_sidebar": "Contents",
   "toc_cell": false,
   "toc_position": {},
   "toc_section_display": true,
   "toc_window_display": false
  }
 },
 "nbformat": 4,
 "nbformat_minor": 2
}
